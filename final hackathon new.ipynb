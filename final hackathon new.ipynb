{
 "cells": [
  {
   "cell_type": "markdown",
   "metadata": {},
   "source": [
    "#### Load the libraries "
   ]
  },
  {
   "cell_type": "code",
   "execution_count": 56,
   "metadata": {},
   "outputs": [],
   "source": [
    "import os\n",
    "import pandas as pd\n",
    "import numpy as np\n",
    "\n",
    "from sklearn.preprocessing import StandardScaler\n",
    "from sklearn.model_selection import train_test_split\n",
    "from sklearn.metrics import confusion_matrix, roc_curve, auc\n",
    "\n",
    "from sklearn import tree\n",
    "from sklearn.preprocessing import MinMaxScaler\n",
    "from sklearn.model_selection import cross_val_score\n",
    "\n",
    "from sklearn.preprocessing import OneHotEncoder\n",
    "from sklearn.compose import ColumnTransformer\n",
    "\n",
    "from sklearn.ensemble import RandomForestClassifier\n",
    "import matplotlib.pyplot as plt\n"
   ]
  },
  {
   "cell_type": "markdown",
   "metadata": {},
   "source": [
    "#### Library to ignore warning "
   ]
  },
  {
   "cell_type": "code",
   "execution_count": 57,
   "metadata": {},
   "outputs": [],
   "source": [
    "import warnings\n",
    "warnings.filterwarnings('ignore')"
   ]
  },
  {
   "cell_type": "markdown",
   "metadata": {},
   "source": [
    "## Data "
   ]
  },
  {
   "cell_type": "code",
   "execution_count": 58,
   "metadata": {},
   "outputs": [
    {
     "name": "stdout",
     "output_type": "stream",
     "text": [
      "Requirement already satisfied: sklearn in c:\\users\\sadaf\\anaconda3\\lib\\site-packages (0.0)\n",
      "Requirement already satisfied: scikit-learn in c:\\users\\sadaf\\anaconda3\\lib\\site-packages (from sklearn) (1.1.2)\n",
      "Requirement already satisfied: threadpoolctl>=2.0.0 in c:\\users\\sadaf\\anaconda3\\lib\\site-packages (from scikit-learn->sklearn) (2.2.0)\n",
      "Requirement already satisfied: numpy>=1.17.3 in c:\\users\\sadaf\\anaconda3\\lib\\site-packages (from scikit-learn->sklearn) (1.20.3)\n",
      "Requirement already satisfied: joblib>=1.0.0 in c:\\users\\sadaf\\anaconda3\\lib\\site-packages (from scikit-learn->sklearn) (1.1.0)\n",
      "Requirement already satisfied: scipy>=1.3.2 in c:\\users\\sadaf\\anaconda3\\lib\\site-packages (from scikit-learn->sklearn) (1.7.1)\n"
     ]
    }
   ],
   "source": [
    "!pip install sklearn"
   ]
  },
  {
   "cell_type": "markdown",
   "metadata": {},
   "source": [
    "#### Reading Train data"
   ]
  },
  {
   "cell_type": "code",
   "execution_count": 59,
   "metadata": {},
   "outputs": [],
   "source": [
    "Train = pd.read_csv(\"Traindata_with_Target.csv\", na_values=[\" \",\".\",\"NA\",\"?\",\"-\",\"\"])\n",
    "Train_Claim = pd.read_csv(\"Train_Claim.csv\", na_values=[\" \",\"MISSEDDATA\",\"NA\",\"?\",\"-5\",\"MISSINGVALUE\",\"\"])\n",
    "Train_Demographics = pd.read_csv(\"Train_Demographics.csv\",na_values=[\" \",\".\",\"NA\",\"-\",\"\"] )\n",
    "Train_Policy = pd.read_csv(\"Train_Policy.csv\",na_values=[\" \",\".\",\"NA\",\"MISSINGVAL\",\"-1\",\"\"])\n",
    "Train_Vehicle = pd.read_csv(\"Train_Vehicle.csv\",na_values=[\" \",\".\",\"NA\",\"???\",\"-1\",\"\"])"
   ]
  },
  {
   "cell_type": "markdown",
   "metadata": {},
   "source": [
    "#### Reading Test data"
   ]
  },
  {
   "cell_type": "code",
   "execution_count": 60,
   "metadata": {},
   "outputs": [],
   "source": [
    "Test = pd.read_csv(\"output.csv\", na_values=[\" \",\".\",\"NA\",\"?\",\"-\",\"\"])\n",
    "Test_Claim = pd.read_csv(\"Test_Claim.csv\", na_values=[\" \",\"MISSEDDATA\",\"NA\",\"?\",\"-5\",\"MISSINGVALUE\",\"\"])\n",
    "Test_Demographics = pd.read_csv(\"Test_Demographics.csv\",na_values=[\" \",\".\",\"NA\",\"-\",\"\"] )\n",
    "Test_Policy = pd.read_csv(\"Test_Policy.csv\",na_values=[\" \",\".\",\"NA\",\"MISSINGVAL\",\"-1\",\"\"])\n",
    "Test_Vehicle = pd.read_csv(\"Test_Vehicle.csv\",na_values=[\" \",\".\",\"NA\",\"???\",\"-1\",\"\"])"
   ]
  },
  {
   "cell_type": "markdown",
   "metadata": {},
   "source": [
    "Conversion of Catrgorical column to object type "
   ]
  },
  {
   "cell_type": "code",
   "execution_count": 61,
   "metadata": {},
   "outputs": [],
   "source": [
    "Train_Demographics['InsuredZipCode']=Train_Demographics['InsuredZipCode'].astype('object')\n",
    "Test_Demographics['InsuredZipCode']=Test_Demographics['InsuredZipCode'].astype('object')\n",
    "Train_Policy['InsurancePolicyNumber']=Train_Policy['InsurancePolicyNumber'].astype('object')\n",
    "Test_Policy['InsurancePolicyNumber']=Test_Policy['InsurancePolicyNumber'].astype('object')\n",
    "Train_Claim['NumberOfVehicles']=Train_Claim['NumberOfVehicles'].astype('object')\n",
    "Train_Claim['BodilyInjuries']=Train_Claim['BodilyInjuries'].astype('object')\n",
    "Train_Claim['Witnesses']=Train_Claim['Witnesses'].astype('object')\n",
    "Test_Claim['NumberOfVehicles']=Test_Claim['NumberOfVehicles'].astype('object')\n",
    "Test_Claim['BodilyInjuries']=Test_Claim['BodilyInjuries'].astype('object')\n",
    "Test_Claim['Witnesses']=Test_Claim['Witnesses'].astype('object')"
   ]
  },
  {
   "cell_type": "markdown",
   "metadata": {},
   "source": [
    "since after inspection vehicle attribute and vehicle attribute details have soem common relation - applying pivot"
   ]
  },
  {
   "cell_type": "code",
   "execution_count": 62,
   "metadata": {},
   "outputs": [
    {
     "data": {
      "text/html": [
       "<div>\n",
       "<style scoped>\n",
       "    .dataframe tbody tr th:only-of-type {\n",
       "        vertical-align: middle;\n",
       "    }\n",
       "\n",
       "    .dataframe tbody tr th {\n",
       "        vertical-align: top;\n",
       "    }\n",
       "\n",
       "    .dataframe thead th {\n",
       "        text-align: right;\n",
       "    }\n",
       "</style>\n",
       "<table border=\"1\" class=\"dataframe\">\n",
       "  <thead>\n",
       "    <tr style=\"text-align: right;\">\n",
       "      <th>VehicleAttribute</th>\n",
       "      <th>VehicleID</th>\n",
       "      <th>VehicleMake</th>\n",
       "      <th>VehicleModel</th>\n",
       "      <th>VehicleYOM</th>\n",
       "    </tr>\n",
       "    <tr>\n",
       "      <th>CustomerID</th>\n",
       "      <th></th>\n",
       "      <th></th>\n",
       "      <th></th>\n",
       "      <th></th>\n",
       "    </tr>\n",
       "  </thead>\n",
       "  <tbody>\n",
       "    <tr>\n",
       "      <th>Cust10000</th>\n",
       "      <td>Vehicle26917</td>\n",
       "      <td>Audi</td>\n",
       "      <td>A5</td>\n",
       "      <td>2008</td>\n",
       "    </tr>\n",
       "    <tr>\n",
       "      <th>Cust10001</th>\n",
       "      <td>Vehicle15893</td>\n",
       "      <td>Audi</td>\n",
       "      <td>A5</td>\n",
       "      <td>2006</td>\n",
       "    </tr>\n",
       "    <tr>\n",
       "      <th>Cust10002</th>\n",
       "      <td>Vehicle5152</td>\n",
       "      <td>Volkswagen</td>\n",
       "      <td>Jetta</td>\n",
       "      <td>1999</td>\n",
       "    </tr>\n",
       "    <tr>\n",
       "      <th>Cust10003</th>\n",
       "      <td>Vehicle37363</td>\n",
       "      <td>Volkswagen</td>\n",
       "      <td>Jetta</td>\n",
       "      <td>2003</td>\n",
       "    </tr>\n",
       "    <tr>\n",
       "      <th>Cust10004</th>\n",
       "      <td>Vehicle28633</td>\n",
       "      <td>Toyota</td>\n",
       "      <td>CRV</td>\n",
       "      <td>2010</td>\n",
       "    </tr>\n",
       "  </tbody>\n",
       "</table>\n",
       "</div>"
      ],
      "text/plain": [
       "VehicleAttribute     VehicleID VehicleMake VehicleModel VehicleYOM\n",
       "CustomerID                                                        \n",
       "Cust10000         Vehicle26917        Audi           A5       2008\n",
       "Cust10001         Vehicle15893        Audi           A5       2006\n",
       "Cust10002          Vehicle5152  Volkswagen        Jetta       1999\n",
       "Cust10003         Vehicle37363  Volkswagen        Jetta       2003\n",
       "Cust10004         Vehicle28633      Toyota          CRV       2010"
      ]
     },
     "execution_count": 62,
     "metadata": {},
     "output_type": "execute_result"
    }
   ],
   "source": [
    "Train_Vehicle.pivot(index='CustomerID',columns='VehicleAttribute',values='VehicleAttributeDetails').head(5)"
   ]
  },
  {
   "cell_type": "code",
   "execution_count": 63,
   "metadata": {},
   "outputs": [
    {
     "data": {
      "text/html": [
       "<div>\n",
       "<style scoped>\n",
       "    .dataframe tbody tr th:only-of-type {\n",
       "        vertical-align: middle;\n",
       "    }\n",
       "\n",
       "    .dataframe tbody tr th {\n",
       "        vertical-align: top;\n",
       "    }\n",
       "\n",
       "    .dataframe thead th {\n",
       "        text-align: right;\n",
       "    }\n",
       "</style>\n",
       "<table border=\"1\" class=\"dataframe\">\n",
       "  <thead>\n",
       "    <tr style=\"text-align: right;\">\n",
       "      <th>VehicleAttribute</th>\n",
       "      <th>VehicleID</th>\n",
       "      <th>VehicleMake</th>\n",
       "      <th>VehicleModel</th>\n",
       "      <th>VehicleYOM</th>\n",
       "    </tr>\n",
       "    <tr>\n",
       "      <th>CustomerID</th>\n",
       "      <th></th>\n",
       "      <th></th>\n",
       "      <th></th>\n",
       "      <th></th>\n",
       "    </tr>\n",
       "  </thead>\n",
       "  <tbody>\n",
       "    <tr>\n",
       "      <th>Cust10008</th>\n",
       "      <td>Vehicle34362</td>\n",
       "      <td>Volkswagen</td>\n",
       "      <td>Passat</td>\n",
       "      <td>1995</td>\n",
       "    </tr>\n",
       "    <tr>\n",
       "      <th>Cust10010</th>\n",
       "      <td>Vehicle17046</td>\n",
       "      <td>Nissan</td>\n",
       "      <td>Ultima</td>\n",
       "      <td>2006</td>\n",
       "    </tr>\n",
       "    <tr>\n",
       "      <th>Cust10015</th>\n",
       "      <td>Vehicle11038</td>\n",
       "      <td>Suburu</td>\n",
       "      <td>Impreza</td>\n",
       "      <td>2010</td>\n",
       "    </tr>\n",
       "    <tr>\n",
       "      <th>Cust10020</th>\n",
       "      <td>Vehicle37114</td>\n",
       "      <td>Accura</td>\n",
       "      <td>TL</td>\n",
       "      <td>2009</td>\n",
       "    </tr>\n",
       "    <tr>\n",
       "      <th>Cust1003</th>\n",
       "      <td>Vehicle16771</td>\n",
       "      <td>Dodge</td>\n",
       "      <td>RAM</td>\n",
       "      <td>2007</td>\n",
       "    </tr>\n",
       "  </tbody>\n",
       "</table>\n",
       "</div>"
      ],
      "text/plain": [
       "VehicleAttribute     VehicleID VehicleMake VehicleModel VehicleYOM\n",
       "CustomerID                                                        \n",
       "Cust10008         Vehicle34362  Volkswagen       Passat       1995\n",
       "Cust10010         Vehicle17046      Nissan       Ultima       2006\n",
       "Cust10015         Vehicle11038      Suburu      Impreza       2010\n",
       "Cust10020         Vehicle37114      Accura           TL       2009\n",
       "Cust1003          Vehicle16771       Dodge          RAM       2007"
      ]
     },
     "execution_count": 63,
     "metadata": {},
     "output_type": "execute_result"
    }
   ],
   "source": [
    "Test_Vehicle.pivot(index='CustomerID',columns='VehicleAttribute',values='VehicleAttributeDetails').head(5)"
   ]
  },
  {
   "cell_type": "code",
   "execution_count": 64,
   "metadata": {},
   "outputs": [],
   "source": [
    "Train_Vehicle=Train_Vehicle.pivot(index='CustomerID',columns='VehicleAttribute',values='VehicleAttributeDetails').reset_index()\n",
    "Test_Vehicle=Test_Vehicle.pivot(index='CustomerID',columns='VehicleAttribute',values='VehicleAttributeDetails').reset_index()"
   ]
  },
  {
   "cell_type": "markdown",
   "metadata": {},
   "source": [
    "Changing Y and N to 1 and 0's "
   ]
  },
  {
   "cell_type": "code",
   "execution_count": 65,
   "metadata": {},
   "outputs": [],
   "source": [
    "Train['ReportedFraud']=Train['ReportedFraud'].apply(lambda x: 1 if x=='Y' else 0)"
   ]
  },
  {
   "cell_type": "markdown",
   "metadata": {},
   "source": [
    "### Merging Train dataset"
   ]
  },
  {
   "cell_type": "code",
   "execution_count": 66,
   "metadata": {},
   "outputs": [],
   "source": [
    "Merged_Train1 = pd.merge(Train,Train_Claim, how = \"inner\", on='CustomerID')\n",
    "Merged_Train2 = pd.merge(Merged_Train1,Train_Demographics, how =\"inner\", on='CustomerID')\n",
    "Merged_Train3 = pd.merge(Merged_Train2,Train_Policy, how =\"inner\", on='CustomerID')\n",
    "Merged_Train4 = pd.merge(Merged_Train3,Train_Vehicle, how =\"inner\", on='CustomerID')\n",
    "data=Merged_Train4"
   ]
  },
  {
   "cell_type": "markdown",
   "metadata": {},
   "source": [
    "### Merging Test dataset"
   ]
  },
  {
   "cell_type": "code",
   "execution_count": 67,
   "metadata": {},
   "outputs": [],
   "source": [
    "Merged_Test1 = pd.merge(Test,Test_Claim, how = \"inner\", on='CustomerID')\n",
    "Merged_Test2 = pd.merge(Merged_Test1,Test_Demographics, how =\"inner\", on='CustomerID')\n",
    "Merged_Test3 = pd.merge(Merged_Test2,Test_Policy, how =\"inner\", on='CustomerID')\n",
    "Merged_Test4 = pd.merge(Merged_Test3,Test_Vehicle, how =\"inner\", on='CustomerID')\n",
    "data_test=Merged_Test4"
   ]
  },
  {
   "cell_type": "markdown",
   "metadata": {},
   "source": [
    "### Understanding the Data"
   ]
  },
  {
   "cell_type": "code",
   "execution_count": 68,
   "metadata": {},
   "outputs": [
    {
     "data": {
      "text/plain": [
       "(28836, 42)"
      ]
     },
     "execution_count": 68,
     "metadata": {},
     "output_type": "execute_result"
    }
   ],
   "source": [
    "data.shape"
   ]
  },
  {
   "cell_type": "code",
   "execution_count": 69,
   "metadata": {},
   "outputs": [
    {
     "data": {
      "text/plain": [
       "(8912, 42)"
      ]
     },
     "execution_count": 69,
     "metadata": {},
     "output_type": "execute_result"
    }
   ],
   "source": [
    "data_test.shape"
   ]
  },
  {
   "cell_type": "markdown",
   "metadata": {},
   "source": [
    "### Column names "
   ]
  },
  {
   "cell_type": "code",
   "execution_count": 70,
   "metadata": {},
   "outputs": [
    {
     "data": {
      "text/plain": [
       "Index(['CustomerID', 'ReportedFraud', 'DateOfIncident', 'TypeOfIncident',\n",
       "       'TypeOfCollission', 'SeverityOfIncident', 'AuthoritiesContacted',\n",
       "       'IncidentState', 'IncidentCity', 'IncidentAddress', 'IncidentTime',\n",
       "       'NumberOfVehicles', 'PropertyDamage', 'BodilyInjuries', 'Witnesses',\n",
       "       'PoliceReport', 'AmountOfTotalClaim', 'AmountOfInjuryClaim',\n",
       "       'AmountOfPropertyClaim', 'AmountOfVehicleDamage', 'InsuredAge',\n",
       "       'InsuredZipCode', 'InsuredGender', 'InsuredEducationLevel',\n",
       "       'InsuredOccupation', 'InsuredHobbies', 'CapitalGains', 'CapitalLoss',\n",
       "       'Country', 'InsurancePolicyNumber', 'CustomerLoyaltyPeriod',\n",
       "       'DateOfPolicyCoverage', 'InsurancePolicyState',\n",
       "       'Policy_CombinedSingleLimit', 'Policy_Deductible',\n",
       "       'PolicyAnnualPremium', 'UmbrellaLimit', 'InsuredRelationship',\n",
       "       'VehicleID', 'VehicleMake', 'VehicleModel', 'VehicleYOM'],\n",
       "      dtype='object')"
      ]
     },
     "execution_count": 70,
     "metadata": {},
     "output_type": "execute_result"
    }
   ],
   "source": [
    "data.columns"
   ]
  },
  {
   "cell_type": "code",
   "execution_count": 71,
   "metadata": {},
   "outputs": [
    {
     "data": {
      "text/plain": [
       "Index(['CustomerID', 'ReportedFraud', 'DateOfIncident', 'TypeOfIncident',\n",
       "       'TypeOfCollission', 'SeverityOfIncident', 'AuthoritiesContacted',\n",
       "       'IncidentState', 'IncidentCity', 'IncidentAddress', 'IncidentTime',\n",
       "       'NumberOfVehicles', 'PropertyDamage', 'BodilyInjuries', 'Witnesses',\n",
       "       'PoliceReport', 'AmountOfTotalClaim', 'AmountOfInjuryClaim',\n",
       "       'AmountOfPropertyClaim', 'AmountOfVehicleDamage', 'InsuredAge',\n",
       "       'InsuredZipCode', 'InsuredGender', 'InsuredEducationLevel',\n",
       "       'InsuredOccupation', 'InsuredHobbies', 'CapitalGains', 'CapitalLoss',\n",
       "       'Country', 'InsurancePolicyNumber', 'CustomerLoyaltyPeriod',\n",
       "       'DateOfPolicyCoverage', 'InsurancePolicyState',\n",
       "       'Policy_CombinedSingleLimit', 'Policy_Deductible',\n",
       "       'PolicyAnnualPremium', 'UmbrellaLimit', 'InsuredRelationship',\n",
       "       'VehicleID', 'VehicleMake', 'VehicleModel', 'VehicleYOM'],\n",
       "      dtype='object')"
      ]
     },
     "execution_count": 71,
     "metadata": {},
     "output_type": "execute_result"
    }
   ],
   "source": [
    "data_test.columns"
   ]
  },
  {
   "cell_type": "code",
   "execution_count": 72,
   "metadata": {},
   "outputs": [
    {
     "data": {
      "text/html": [
       "<div>\n",
       "<style scoped>\n",
       "    .dataframe tbody tr th:only-of-type {\n",
       "        vertical-align: middle;\n",
       "    }\n",
       "\n",
       "    .dataframe tbody tr th {\n",
       "        vertical-align: top;\n",
       "    }\n",
       "\n",
       "    .dataframe thead th {\n",
       "        text-align: right;\n",
       "    }\n",
       "</style>\n",
       "<table border=\"1\" class=\"dataframe\">\n",
       "  <thead>\n",
       "    <tr style=\"text-align: right;\">\n",
       "      <th></th>\n",
       "      <th>CustomerID</th>\n",
       "      <th>ReportedFraud</th>\n",
       "      <th>DateOfIncident</th>\n",
       "      <th>TypeOfIncident</th>\n",
       "      <th>TypeOfCollission</th>\n",
       "      <th>SeverityOfIncident</th>\n",
       "      <th>AuthoritiesContacted</th>\n",
       "      <th>IncidentState</th>\n",
       "      <th>IncidentCity</th>\n",
       "      <th>IncidentAddress</th>\n",
       "      <th>...</th>\n",
       "      <th>InsurancePolicyState</th>\n",
       "      <th>Policy_CombinedSingleLimit</th>\n",
       "      <th>Policy_Deductible</th>\n",
       "      <th>PolicyAnnualPremium</th>\n",
       "      <th>UmbrellaLimit</th>\n",
       "      <th>InsuredRelationship</th>\n",
       "      <th>VehicleID</th>\n",
       "      <th>VehicleMake</th>\n",
       "      <th>VehicleModel</th>\n",
       "      <th>VehicleYOM</th>\n",
       "    </tr>\n",
       "  </thead>\n",
       "  <tbody>\n",
       "    <tr>\n",
       "      <th>0</th>\n",
       "      <td>Cust20065</td>\n",
       "      <td>0</td>\n",
       "      <td>2015-01-09</td>\n",
       "      <td>Multi-vehicle Collision</td>\n",
       "      <td>Rear Collision</td>\n",
       "      <td>Total Loss</td>\n",
       "      <td>Other</td>\n",
       "      <td>State9</td>\n",
       "      <td>City4</td>\n",
       "      <td>Location 1404</td>\n",
       "      <td>...</td>\n",
       "      <td>State2</td>\n",
       "      <td>250/500</td>\n",
       "      <td>2000</td>\n",
       "      <td>1142.87</td>\n",
       "      <td>0</td>\n",
       "      <td>own-child</td>\n",
       "      <td>Vehicle30662</td>\n",
       "      <td>Mercedes</td>\n",
       "      <td>E400</td>\n",
       "      <td>2005</td>\n",
       "    </tr>\n",
       "    <tr>\n",
       "      <th>1</th>\n",
       "      <td>Cust37589</td>\n",
       "      <td>0</td>\n",
       "      <td>2015-02-20</td>\n",
       "      <td>Single Vehicle Collision</td>\n",
       "      <td>Side Collision</td>\n",
       "      <td>Minor Damage</td>\n",
       "      <td>Ambulance</td>\n",
       "      <td>State4</td>\n",
       "      <td>City3</td>\n",
       "      <td>Location 1675</td>\n",
       "      <td>...</td>\n",
       "      <td>State2</td>\n",
       "      <td>100/300</td>\n",
       "      <td>1000</td>\n",
       "      <td>1274.38</td>\n",
       "      <td>2857344</td>\n",
       "      <td>own-child</td>\n",
       "      <td>Vehicle17183</td>\n",
       "      <td>Toyota</td>\n",
       "      <td>Highlander</td>\n",
       "      <td>2010</td>\n",
       "    </tr>\n",
       "    <tr>\n",
       "      <th>2</th>\n",
       "      <td>Cust24312</td>\n",
       "      <td>0</td>\n",
       "      <td>2015-01-14</td>\n",
       "      <td>Multi-vehicle Collision</td>\n",
       "      <td>Side Collision</td>\n",
       "      <td>Major Damage</td>\n",
       "      <td>Ambulance</td>\n",
       "      <td>State5</td>\n",
       "      <td>City2</td>\n",
       "      <td>Location 1546</td>\n",
       "      <td>...</td>\n",
       "      <td>State1</td>\n",
       "      <td>500/1000</td>\n",
       "      <td>745</td>\n",
       "      <td>1269.93</td>\n",
       "      <td>0</td>\n",
       "      <td>other-relative</td>\n",
       "      <td>Vehicle33982</td>\n",
       "      <td>Volkswagen</td>\n",
       "      <td>Passat</td>\n",
       "      <td>2002</td>\n",
       "    </tr>\n",
       "    <tr>\n",
       "      <th>3</th>\n",
       "      <td>Cust5493</td>\n",
       "      <td>1</td>\n",
       "      <td>2015-01-07</td>\n",
       "      <td>Multi-vehicle Collision</td>\n",
       "      <td>Side Collision</td>\n",
       "      <td>Major Damage</td>\n",
       "      <td>Ambulance</td>\n",
       "      <td>State7</td>\n",
       "      <td>City4</td>\n",
       "      <td>Location 1413</td>\n",
       "      <td>...</td>\n",
       "      <td>State2</td>\n",
       "      <td>100/300</td>\n",
       "      <td>986</td>\n",
       "      <td>1218.60</td>\n",
       "      <td>0</td>\n",
       "      <td>other-relative</td>\n",
       "      <td>Vehicle12299</td>\n",
       "      <td>Toyota</td>\n",
       "      <td>Highlander</td>\n",
       "      <td>2011</td>\n",
       "    </tr>\n",
       "    <tr>\n",
       "      <th>4</th>\n",
       "      <td>Cust7704</td>\n",
       "      <td>1</td>\n",
       "      <td>2015-02-26</td>\n",
       "      <td>Multi-vehicle Collision</td>\n",
       "      <td>Side Collision</td>\n",
       "      <td>Major Damage</td>\n",
       "      <td>Other</td>\n",
       "      <td>State4</td>\n",
       "      <td>City6</td>\n",
       "      <td>Location 1367</td>\n",
       "      <td>...</td>\n",
       "      <td>State3</td>\n",
       "      <td>250/500</td>\n",
       "      <td>576</td>\n",
       "      <td>1431.02</td>\n",
       "      <td>4235779</td>\n",
       "      <td>unmarried</td>\n",
       "      <td>Vehicle30447</td>\n",
       "      <td>Ford</td>\n",
       "      <td>Wrangler</td>\n",
       "      <td>2010</td>\n",
       "    </tr>\n",
       "  </tbody>\n",
       "</table>\n",
       "<p>5 rows × 42 columns</p>\n",
       "</div>"
      ],
      "text/plain": [
       "  CustomerID  ReportedFraud DateOfIncident            TypeOfIncident  \\\n",
       "0  Cust20065              0     2015-01-09   Multi-vehicle Collision   \n",
       "1  Cust37589              0     2015-02-20  Single Vehicle Collision   \n",
       "2  Cust24312              0     2015-01-14   Multi-vehicle Collision   \n",
       "3   Cust5493              1     2015-01-07   Multi-vehicle Collision   \n",
       "4   Cust7704              1     2015-02-26   Multi-vehicle Collision   \n",
       "\n",
       "  TypeOfCollission SeverityOfIncident AuthoritiesContacted IncidentState  \\\n",
       "0   Rear Collision         Total Loss                Other        State9   \n",
       "1   Side Collision       Minor Damage            Ambulance        State4   \n",
       "2   Side Collision       Major Damage            Ambulance        State5   \n",
       "3   Side Collision       Major Damage            Ambulance        State7   \n",
       "4   Side Collision       Major Damage                Other        State4   \n",
       "\n",
       "  IncidentCity IncidentAddress  ...  InsurancePolicyState  \\\n",
       "0        City4   Location 1404  ...                State2   \n",
       "1        City3   Location 1675  ...                State2   \n",
       "2        City2   Location 1546  ...                State1   \n",
       "3        City4   Location 1413  ...                State2   \n",
       "4        City6   Location 1367  ...                State3   \n",
       "\n",
       "  Policy_CombinedSingleLimit Policy_Deductible PolicyAnnualPremium  \\\n",
       "0                    250/500              2000             1142.87   \n",
       "1                    100/300              1000             1274.38   \n",
       "2                   500/1000               745             1269.93   \n",
       "3                    100/300               986             1218.60   \n",
       "4                    250/500               576             1431.02   \n",
       "\n",
       "  UmbrellaLimit InsuredRelationship     VehicleID  VehicleMake  VehicleModel  \\\n",
       "0             0           own-child  Vehicle30662     Mercedes          E400   \n",
       "1       2857344           own-child  Vehicle17183       Toyota    Highlander   \n",
       "2             0      other-relative  Vehicle33982   Volkswagen        Passat   \n",
       "3             0      other-relative  Vehicle12299       Toyota    Highlander   \n",
       "4       4235779           unmarried  Vehicle30447         Ford      Wrangler   \n",
       "\n",
       "   VehicleYOM  \n",
       "0        2005  \n",
       "1        2010  \n",
       "2        2002  \n",
       "3        2011  \n",
       "4        2010  \n",
       "\n",
       "[5 rows x 42 columns]"
      ]
     },
     "execution_count": 72,
     "metadata": {},
     "output_type": "execute_result"
    }
   ],
   "source": [
    "data.head()"
   ]
  },
  {
   "cell_type": "code",
   "execution_count": 73,
   "metadata": {},
   "outputs": [
    {
     "data": {
      "text/html": [
       "<div>\n",
       "<style scoped>\n",
       "    .dataframe tbody tr th:only-of-type {\n",
       "        vertical-align: middle;\n",
       "    }\n",
       "\n",
       "    .dataframe tbody tr th {\n",
       "        vertical-align: top;\n",
       "    }\n",
       "\n",
       "    .dataframe thead th {\n",
       "        text-align: right;\n",
       "    }\n",
       "</style>\n",
       "<table border=\"1\" class=\"dataframe\">\n",
       "  <thead>\n",
       "    <tr style=\"text-align: right;\">\n",
       "      <th></th>\n",
       "      <th>CustomerID</th>\n",
       "      <th>ReportedFraud</th>\n",
       "      <th>DateOfIncident</th>\n",
       "      <th>TypeOfIncident</th>\n",
       "      <th>TypeOfCollission</th>\n",
       "      <th>SeverityOfIncident</th>\n",
       "      <th>AuthoritiesContacted</th>\n",
       "      <th>IncidentState</th>\n",
       "      <th>IncidentCity</th>\n",
       "      <th>IncidentAddress</th>\n",
       "      <th>...</th>\n",
       "      <th>InsurancePolicyState</th>\n",
       "      <th>Policy_CombinedSingleLimit</th>\n",
       "      <th>Policy_Deductible</th>\n",
       "      <th>PolicyAnnualPremium</th>\n",
       "      <th>UmbrellaLimit</th>\n",
       "      <th>InsuredRelationship</th>\n",
       "      <th>VehicleID</th>\n",
       "      <th>VehicleMake</th>\n",
       "      <th>VehicleModel</th>\n",
       "      <th>VehicleYOM</th>\n",
       "    </tr>\n",
       "  </thead>\n",
       "  <tbody>\n",
       "    <tr>\n",
       "      <th>0</th>\n",
       "      <td>Cust10008</td>\n",
       "      <td>0</td>\n",
       "      <td>2015-02-05</td>\n",
       "      <td>Multi-vehicle Collision</td>\n",
       "      <td>Front Collision</td>\n",
       "      <td>Minor Damage</td>\n",
       "      <td>Ambulance</td>\n",
       "      <td>State5</td>\n",
       "      <td>City2</td>\n",
       "      <td>Location 1354</td>\n",
       "      <td>...</td>\n",
       "      <td>State2</td>\n",
       "      <td>500/1000</td>\n",
       "      <td>2000</td>\n",
       "      <td>1006.00</td>\n",
       "      <td>0</td>\n",
       "      <td>own-child</td>\n",
       "      <td>Vehicle34362</td>\n",
       "      <td>Volkswagen</td>\n",
       "      <td>Passat</td>\n",
       "      <td>1995</td>\n",
       "    </tr>\n",
       "    <tr>\n",
       "      <th>1</th>\n",
       "      <td>Cust10010</td>\n",
       "      <td>0</td>\n",
       "      <td>2015-01-13</td>\n",
       "      <td>Single Vehicle Collision</td>\n",
       "      <td>Rear Collision</td>\n",
       "      <td>Minor Damage</td>\n",
       "      <td>Fire</td>\n",
       "      <td>State9</td>\n",
       "      <td>City5</td>\n",
       "      <td>Location 1383</td>\n",
       "      <td>...</td>\n",
       "      <td>State3</td>\n",
       "      <td>100/300</td>\n",
       "      <td>500</td>\n",
       "      <td>1279.17</td>\n",
       "      <td>0</td>\n",
       "      <td>unmarried</td>\n",
       "      <td>Vehicle17046</td>\n",
       "      <td>Nissan</td>\n",
       "      <td>Ultima</td>\n",
       "      <td>2006</td>\n",
       "    </tr>\n",
       "    <tr>\n",
       "      <th>2</th>\n",
       "      <td>Cust10015</td>\n",
       "      <td>0</td>\n",
       "      <td>2015-01-05</td>\n",
       "      <td>Multi-vehicle Collision</td>\n",
       "      <td>Rear Collision</td>\n",
       "      <td>Minor Damage</td>\n",
       "      <td>Police</td>\n",
       "      <td>State5</td>\n",
       "      <td>City2</td>\n",
       "      <td>Location 2030</td>\n",
       "      <td>...</td>\n",
       "      <td>State2</td>\n",
       "      <td>250/500</td>\n",
       "      <td>1000</td>\n",
       "      <td>1454.67</td>\n",
       "      <td>1235986</td>\n",
       "      <td>other-relative</td>\n",
       "      <td>Vehicle11038</td>\n",
       "      <td>Suburu</td>\n",
       "      <td>Impreza</td>\n",
       "      <td>2010</td>\n",
       "    </tr>\n",
       "    <tr>\n",
       "      <th>3</th>\n",
       "      <td>Cust10020</td>\n",
       "      <td>0</td>\n",
       "      <td>2015-01-03</td>\n",
       "      <td>Vehicle Theft</td>\n",
       "      <td>NaN</td>\n",
       "      <td>Trivial Damage</td>\n",
       "      <td>None</td>\n",
       "      <td>State7</td>\n",
       "      <td>City5</td>\n",
       "      <td>Location 1449</td>\n",
       "      <td>...</td>\n",
       "      <td>State3</td>\n",
       "      <td>500/500</td>\n",
       "      <td>2000</td>\n",
       "      <td>1287.76</td>\n",
       "      <td>5873212</td>\n",
       "      <td>wife</td>\n",
       "      <td>Vehicle37114</td>\n",
       "      <td>Accura</td>\n",
       "      <td>TL</td>\n",
       "      <td>2009</td>\n",
       "    </tr>\n",
       "    <tr>\n",
       "      <th>4</th>\n",
       "      <td>Cust1003</td>\n",
       "      <td>0</td>\n",
       "      <td>2015-02-22</td>\n",
       "      <td>Multi-vehicle Collision</td>\n",
       "      <td>Rear Collision</td>\n",
       "      <td>Minor Damage</td>\n",
       "      <td>Police</td>\n",
       "      <td>State5</td>\n",
       "      <td>City2</td>\n",
       "      <td>Location 1916</td>\n",
       "      <td>...</td>\n",
       "      <td>State3</td>\n",
       "      <td>100/300</td>\n",
       "      <td>2000</td>\n",
       "      <td>1413.14</td>\n",
       "      <td>5000000</td>\n",
       "      <td>own-child</td>\n",
       "      <td>Vehicle16771</td>\n",
       "      <td>Dodge</td>\n",
       "      <td>RAM</td>\n",
       "      <td>2007</td>\n",
       "    </tr>\n",
       "  </tbody>\n",
       "</table>\n",
       "<p>5 rows × 42 columns</p>\n",
       "</div>"
      ],
      "text/plain": [
       "  CustomerID  ReportedFraud DateOfIncident            TypeOfIncident  \\\n",
       "0  Cust10008              0     2015-02-05   Multi-vehicle Collision   \n",
       "1  Cust10010              0     2015-01-13  Single Vehicle Collision   \n",
       "2  Cust10015              0     2015-01-05   Multi-vehicle Collision   \n",
       "3  Cust10020              0     2015-01-03             Vehicle Theft   \n",
       "4   Cust1003              0     2015-02-22   Multi-vehicle Collision   \n",
       "\n",
       "  TypeOfCollission SeverityOfIncident AuthoritiesContacted IncidentState  \\\n",
       "0  Front Collision       Minor Damage            Ambulance        State5   \n",
       "1   Rear Collision       Minor Damage                 Fire        State9   \n",
       "2   Rear Collision       Minor Damage               Police        State5   \n",
       "3              NaN     Trivial Damage                 None        State7   \n",
       "4   Rear Collision       Minor Damage               Police        State5   \n",
       "\n",
       "  IncidentCity IncidentAddress  ...  InsurancePolicyState  \\\n",
       "0        City2   Location 1354  ...                State2   \n",
       "1        City5   Location 1383  ...                State3   \n",
       "2        City2   Location 2030  ...                State2   \n",
       "3        City5   Location 1449  ...                State3   \n",
       "4        City2   Location 1916  ...                State3   \n",
       "\n",
       "  Policy_CombinedSingleLimit Policy_Deductible PolicyAnnualPremium  \\\n",
       "0                   500/1000              2000             1006.00   \n",
       "1                    100/300               500             1279.17   \n",
       "2                    250/500              1000             1454.67   \n",
       "3                    500/500              2000             1287.76   \n",
       "4                    100/300              2000             1413.14   \n",
       "\n",
       "  UmbrellaLimit InsuredRelationship     VehicleID  VehicleMake  VehicleModel  \\\n",
       "0             0           own-child  Vehicle34362   Volkswagen        Passat   \n",
       "1             0           unmarried  Vehicle17046       Nissan        Ultima   \n",
       "2       1235986      other-relative  Vehicle11038       Suburu       Impreza   \n",
       "3       5873212                wife  Vehicle37114       Accura            TL   \n",
       "4       5000000           own-child  Vehicle16771        Dodge           RAM   \n",
       "\n",
       "   VehicleYOM  \n",
       "0        1995  \n",
       "1        2006  \n",
       "2        2010  \n",
       "3        2009  \n",
       "4        2007  \n",
       "\n",
       "[5 rows x 42 columns]"
      ]
     },
     "execution_count": 73,
     "metadata": {},
     "output_type": "execute_result"
    }
   ],
   "source": [
    "data_test.head()"
   ]
  },
  {
   "cell_type": "markdown",
   "metadata": {},
   "source": [
    "Checking for insignificant columns "
   ]
  },
  {
   "cell_type": "code",
   "execution_count": 74,
   "metadata": {},
   "outputs": [],
   "source": [
    "def insignificantCols(dataset):\n",
    "    insignificantCols=[]\n",
    "    size=dataset.shape[0]\n",
    "    for i in dataset.columns:\n",
    "        x=dataset[i].nunique()\n",
    "        if (x==size)|(x==1):\n",
    "            insignificantCols.append(i)\n",
    "    return insignificantCols"
   ]
  },
  {
   "cell_type": "code",
   "execution_count": 75,
   "metadata": {},
   "outputs": [
    {
     "data": {
      "text/plain": [
       "['CustomerID', 'Country', 'InsurancePolicyNumber', 'VehicleID']"
      ]
     },
     "execution_count": 75,
     "metadata": {},
     "output_type": "execute_result"
    }
   ],
   "source": [
    "insigCol=insignificantCols(data)\n",
    "insigCol"
   ]
  },
  {
   "cell_type": "markdown",
   "metadata": {},
   "source": [
    "#### Dropping insignificant columns "
   ]
  },
  {
   "cell_type": "code",
   "execution_count": 76,
   "metadata": {},
   "outputs": [],
   "source": [
    "data.drop(['CustomerID', 'Country', 'InsurancePolicyNumber', 'VehicleID'],axis=1,inplace=True)"
   ]
  },
  {
   "cell_type": "code",
   "execution_count": 77,
   "metadata": {},
   "outputs": [],
   "source": [
    "data_test.drop(['CustomerID', 'Country', 'InsurancePolicyNumber', 'VehicleID'],axis=1,inplace=True)"
   ]
  },
  {
   "cell_type": "markdown",
   "metadata": {},
   "source": [
    "#### Data Type"
   ]
  },
  {
   "cell_type": "code",
   "execution_count": 78,
   "metadata": {},
   "outputs": [
    {
     "data": {
      "text/plain": [
       "pandas.core.frame.DataFrame"
      ]
     },
     "execution_count": 78,
     "metadata": {},
     "output_type": "execute_result"
    }
   ],
   "source": [
    "type(data)"
   ]
  },
  {
   "cell_type": "code",
   "execution_count": 79,
   "metadata": {},
   "outputs": [
    {
     "data": {
      "text/plain": [
       "pandas.core.frame.DataFrame"
      ]
     },
     "execution_count": 79,
     "metadata": {},
     "output_type": "execute_result"
    }
   ],
   "source": [
    "type(data_test)"
   ]
  },
  {
   "cell_type": "markdown",
   "metadata": {},
   "source": [
    "#### Display data type of each variable"
   ]
  },
  {
   "cell_type": "code",
   "execution_count": 80,
   "metadata": {},
   "outputs": [
    {
     "data": {
      "text/plain": [
       "ReportedFraud                   int64\n",
       "DateOfIncident                 object\n",
       "TypeOfIncident                 object\n",
       "TypeOfCollission               object\n",
       "SeverityOfIncident             object\n",
       "AuthoritiesContacted           object\n",
       "IncidentState                  object\n",
       "IncidentCity                   object\n",
       "IncidentAddress                object\n",
       "IncidentTime                  float64\n",
       "NumberOfVehicles               object\n",
       "PropertyDamage                 object\n",
       "BodilyInjuries                 object\n",
       "Witnesses                      object\n",
       "PoliceReport                   object\n",
       "AmountOfTotalClaim            float64\n",
       "AmountOfInjuryClaim             int64\n",
       "AmountOfPropertyClaim           int64\n",
       "AmountOfVehicleDamage           int64\n",
       "InsuredAge                      int64\n",
       "InsuredZipCode                 object\n",
       "InsuredGender                  object\n",
       "InsuredEducationLevel          object\n",
       "InsuredOccupation              object\n",
       "InsuredHobbies                 object\n",
       "CapitalGains                    int64\n",
       "CapitalLoss                     int64\n",
       "CustomerLoyaltyPeriod           int64\n",
       "DateOfPolicyCoverage           object\n",
       "InsurancePolicyState           object\n",
       "Policy_CombinedSingleLimit     object\n",
       "Policy_Deductible               int64\n",
       "PolicyAnnualPremium           float64\n",
       "UmbrellaLimit                   int64\n",
       "InsuredRelationship            object\n",
       "VehicleMake                    object\n",
       "VehicleModel                   object\n",
       "VehicleYOM                     object\n",
       "dtype: object"
      ]
     },
     "execution_count": 80,
     "metadata": {},
     "output_type": "execute_result"
    }
   ],
   "source": [
    "data.dtypes"
   ]
  },
  {
   "cell_type": "markdown",
   "metadata": {},
   "source": [
    "#### Summary of data"
   ]
  },
  {
   "cell_type": "code",
   "execution_count": 81,
   "metadata": {},
   "outputs": [
    {
     "data": {
      "text/html": [
       "<div>\n",
       "<style scoped>\n",
       "    .dataframe tbody tr th:only-of-type {\n",
       "        vertical-align: middle;\n",
       "    }\n",
       "\n",
       "    .dataframe tbody tr th {\n",
       "        vertical-align: top;\n",
       "    }\n",
       "\n",
       "    .dataframe thead th {\n",
       "        text-align: right;\n",
       "    }\n",
       "</style>\n",
       "<table border=\"1\" class=\"dataframe\">\n",
       "  <thead>\n",
       "    <tr style=\"text-align: right;\">\n",
       "      <th></th>\n",
       "      <th>ReportedFraud</th>\n",
       "      <th>DateOfIncident</th>\n",
       "      <th>TypeOfIncident</th>\n",
       "      <th>TypeOfCollission</th>\n",
       "      <th>SeverityOfIncident</th>\n",
       "      <th>AuthoritiesContacted</th>\n",
       "      <th>IncidentState</th>\n",
       "      <th>IncidentCity</th>\n",
       "      <th>IncidentAddress</th>\n",
       "      <th>IncidentTime</th>\n",
       "      <th>...</th>\n",
       "      <th>DateOfPolicyCoverage</th>\n",
       "      <th>InsurancePolicyState</th>\n",
       "      <th>Policy_CombinedSingleLimit</th>\n",
       "      <th>Policy_Deductible</th>\n",
       "      <th>PolicyAnnualPremium</th>\n",
       "      <th>UmbrellaLimit</th>\n",
       "      <th>InsuredRelationship</th>\n",
       "      <th>VehicleMake</th>\n",
       "      <th>VehicleModel</th>\n",
       "      <th>VehicleYOM</th>\n",
       "    </tr>\n",
       "  </thead>\n",
       "  <tbody>\n",
       "    <tr>\n",
       "      <th>count</th>\n",
       "      <td>28836.000000</td>\n",
       "      <td>28836</td>\n",
       "      <td>28836</td>\n",
       "      <td>23674</td>\n",
       "      <td>28836</td>\n",
       "      <td>28836</td>\n",
       "      <td>28836</td>\n",
       "      <td>28836</td>\n",
       "      <td>28836</td>\n",
       "      <td>28805.000000</td>\n",
       "      <td>...</td>\n",
       "      <td>28836</td>\n",
       "      <td>28836</td>\n",
       "      <td>28836</td>\n",
       "      <td>28836.000000</td>\n",
       "      <td>28695.000000</td>\n",
       "      <td>2.883600e+04</td>\n",
       "      <td>28836</td>\n",
       "      <td>28786</td>\n",
       "      <td>28836</td>\n",
       "      <td>28836</td>\n",
       "    </tr>\n",
       "    <tr>\n",
       "      <th>unique</th>\n",
       "      <td>NaN</td>\n",
       "      <td>72</td>\n",
       "      <td>4</td>\n",
       "      <td>3</td>\n",
       "      <td>4</td>\n",
       "      <td>5</td>\n",
       "      <td>7</td>\n",
       "      <td>7</td>\n",
       "      <td>1000</td>\n",
       "      <td>NaN</td>\n",
       "      <td>...</td>\n",
       "      <td>6779</td>\n",
       "      <td>3</td>\n",
       "      <td>9</td>\n",
       "      <td>NaN</td>\n",
       "      <td>NaN</td>\n",
       "      <td>NaN</td>\n",
       "      <td>6</td>\n",
       "      <td>14</td>\n",
       "      <td>39</td>\n",
       "      <td>21</td>\n",
       "    </tr>\n",
       "    <tr>\n",
       "      <th>top</th>\n",
       "      <td>NaN</td>\n",
       "      <td>2015-01-10</td>\n",
       "      <td>Multi-vehicle Collision</td>\n",
       "      <td>Rear Collision</td>\n",
       "      <td>Minor Damage</td>\n",
       "      <td>Police</td>\n",
       "      <td>State5</td>\n",
       "      <td>City2</td>\n",
       "      <td>Location 1341</td>\n",
       "      <td>NaN</td>\n",
       "      <td>...</td>\n",
       "      <td>11/11/1998</td>\n",
       "      <td>State3</td>\n",
       "      <td>250/500</td>\n",
       "      <td>NaN</td>\n",
       "      <td>NaN</td>\n",
       "      <td>NaN</td>\n",
       "      <td>own-child</td>\n",
       "      <td>Saab</td>\n",
       "      <td>RAM</td>\n",
       "      <td>2007</td>\n",
       "    </tr>\n",
       "    <tr>\n",
       "      <th>freq</th>\n",
       "      <td>NaN</td>\n",
       "      <td>661</td>\n",
       "      <td>11966</td>\n",
       "      <td>8561</td>\n",
       "      <td>10400</td>\n",
       "      <td>8324</td>\n",
       "      <td>7886</td>\n",
       "      <td>4486</td>\n",
       "      <td>73</td>\n",
       "      <td>NaN</td>\n",
       "      <td>...</td>\n",
       "      <td>38</td>\n",
       "      <td>10146</td>\n",
       "      <td>8260</td>\n",
       "      <td>NaN</td>\n",
       "      <td>NaN</td>\n",
       "      <td>NaN</td>\n",
       "      <td>5242</td>\n",
       "      <td>2415</td>\n",
       "      <td>1344</td>\n",
       "      <td>1730</td>\n",
       "    </tr>\n",
       "    <tr>\n",
       "      <th>mean</th>\n",
       "      <td>0.269975</td>\n",
       "      <td>NaN</td>\n",
       "      <td>NaN</td>\n",
       "      <td>NaN</td>\n",
       "      <td>NaN</td>\n",
       "      <td>NaN</td>\n",
       "      <td>NaN</td>\n",
       "      <td>NaN</td>\n",
       "      <td>NaN</td>\n",
       "      <td>11.764069</td>\n",
       "      <td>...</td>\n",
       "      <td>NaN</td>\n",
       "      <td>NaN</td>\n",
       "      <td>NaN</td>\n",
       "      <td>1114.282529</td>\n",
       "      <td>1261.702646</td>\n",
       "      <td>9.836680e+05</td>\n",
       "      <td>NaN</td>\n",
       "      <td>NaN</td>\n",
       "      <td>NaN</td>\n",
       "      <td>NaN</td>\n",
       "    </tr>\n",
       "    <tr>\n",
       "      <th>std</th>\n",
       "      <td>0.443954</td>\n",
       "      <td>NaN</td>\n",
       "      <td>NaN</td>\n",
       "      <td>NaN</td>\n",
       "      <td>NaN</td>\n",
       "      <td>NaN</td>\n",
       "      <td>NaN</td>\n",
       "      <td>NaN</td>\n",
       "      <td>NaN</td>\n",
       "      <td>6.148869</td>\n",
       "      <td>...</td>\n",
       "      <td>NaN</td>\n",
       "      <td>NaN</td>\n",
       "      <td>NaN</td>\n",
       "      <td>546.632816</td>\n",
       "      <td>205.385158</td>\n",
       "      <td>1.969282e+06</td>\n",
       "      <td>NaN</td>\n",
       "      <td>NaN</td>\n",
       "      <td>NaN</td>\n",
       "      <td>NaN</td>\n",
       "    </tr>\n",
       "    <tr>\n",
       "      <th>min</th>\n",
       "      <td>0.000000</td>\n",
       "      <td>NaN</td>\n",
       "      <td>NaN</td>\n",
       "      <td>NaN</td>\n",
       "      <td>NaN</td>\n",
       "      <td>NaN</td>\n",
       "      <td>NaN</td>\n",
       "      <td>NaN</td>\n",
       "      <td>NaN</td>\n",
       "      <td>0.000000</td>\n",
       "      <td>...</td>\n",
       "      <td>NaN</td>\n",
       "      <td>NaN</td>\n",
       "      <td>NaN</td>\n",
       "      <td>500.000000</td>\n",
       "      <td>436.280000</td>\n",
       "      <td>-1.000000e+06</td>\n",
       "      <td>NaN</td>\n",
       "      <td>NaN</td>\n",
       "      <td>NaN</td>\n",
       "      <td>NaN</td>\n",
       "    </tr>\n",
       "    <tr>\n",
       "      <th>25%</th>\n",
       "      <td>0.000000</td>\n",
       "      <td>NaN</td>\n",
       "      <td>NaN</td>\n",
       "      <td>NaN</td>\n",
       "      <td>NaN</td>\n",
       "      <td>NaN</td>\n",
       "      <td>NaN</td>\n",
       "      <td>NaN</td>\n",
       "      <td>NaN</td>\n",
       "      <td>6.000000</td>\n",
       "      <td>...</td>\n",
       "      <td>NaN</td>\n",
       "      <td>NaN</td>\n",
       "      <td>NaN</td>\n",
       "      <td>622.000000</td>\n",
       "      <td>1124.425000</td>\n",
       "      <td>0.000000e+00</td>\n",
       "      <td>NaN</td>\n",
       "      <td>NaN</td>\n",
       "      <td>NaN</td>\n",
       "      <td>NaN</td>\n",
       "    </tr>\n",
       "    <tr>\n",
       "      <th>50%</th>\n",
       "      <td>0.000000</td>\n",
       "      <td>NaN</td>\n",
       "      <td>NaN</td>\n",
       "      <td>NaN</td>\n",
       "      <td>NaN</td>\n",
       "      <td>NaN</td>\n",
       "      <td>NaN</td>\n",
       "      <td>NaN</td>\n",
       "      <td>NaN</td>\n",
       "      <td>12.000000</td>\n",
       "      <td>...</td>\n",
       "      <td>NaN</td>\n",
       "      <td>NaN</td>\n",
       "      <td>NaN</td>\n",
       "      <td>1000.000000</td>\n",
       "      <td>1266.440000</td>\n",
       "      <td>0.000000e+00</td>\n",
       "      <td>NaN</td>\n",
       "      <td>NaN</td>\n",
       "      <td>NaN</td>\n",
       "      <td>NaN</td>\n",
       "    </tr>\n",
       "    <tr>\n",
       "      <th>75%</th>\n",
       "      <td>1.000000</td>\n",
       "      <td>NaN</td>\n",
       "      <td>NaN</td>\n",
       "      <td>NaN</td>\n",
       "      <td>NaN</td>\n",
       "      <td>NaN</td>\n",
       "      <td>NaN</td>\n",
       "      <td>NaN</td>\n",
       "      <td>NaN</td>\n",
       "      <td>17.000000</td>\n",
       "      <td>...</td>\n",
       "      <td>NaN</td>\n",
       "      <td>NaN</td>\n",
       "      <td>NaN</td>\n",
       "      <td>1627.000000</td>\n",
       "      <td>1397.200000</td>\n",
       "      <td>4.859610e+05</td>\n",
       "      <td>NaN</td>\n",
       "      <td>NaN</td>\n",
       "      <td>NaN</td>\n",
       "      <td>NaN</td>\n",
       "    </tr>\n",
       "    <tr>\n",
       "      <th>max</th>\n",
       "      <td>1.000000</td>\n",
       "      <td>NaN</td>\n",
       "      <td>NaN</td>\n",
       "      <td>NaN</td>\n",
       "      <td>NaN</td>\n",
       "      <td>NaN</td>\n",
       "      <td>NaN</td>\n",
       "      <td>NaN</td>\n",
       "      <td>NaN</td>\n",
       "      <td>23.000000</td>\n",
       "      <td>...</td>\n",
       "      <td>NaN</td>\n",
       "      <td>NaN</td>\n",
       "      <td>NaN</td>\n",
       "      <td>2000.000000</td>\n",
       "      <td>2047.590000</td>\n",
       "      <td>1.000000e+07</td>\n",
       "      <td>NaN</td>\n",
       "      <td>NaN</td>\n",
       "      <td>NaN</td>\n",
       "      <td>NaN</td>\n",
       "    </tr>\n",
       "  </tbody>\n",
       "</table>\n",
       "<p>11 rows × 38 columns</p>\n",
       "</div>"
      ],
      "text/plain": [
       "        ReportedFraud DateOfIncident           TypeOfIncident  \\\n",
       "count    28836.000000          28836                    28836   \n",
       "unique            NaN             72                        4   \n",
       "top               NaN     2015-01-10  Multi-vehicle Collision   \n",
       "freq              NaN            661                    11966   \n",
       "mean         0.269975            NaN                      NaN   \n",
       "std          0.443954            NaN                      NaN   \n",
       "min          0.000000            NaN                      NaN   \n",
       "25%          0.000000            NaN                      NaN   \n",
       "50%          0.000000            NaN                      NaN   \n",
       "75%          1.000000            NaN                      NaN   \n",
       "max          1.000000            NaN                      NaN   \n",
       "\n",
       "       TypeOfCollission SeverityOfIncident AuthoritiesContacted IncidentState  \\\n",
       "count             23674              28836                28836         28836   \n",
       "unique                3                  4                    5             7   \n",
       "top      Rear Collision       Minor Damage               Police        State5   \n",
       "freq               8561              10400                 8324          7886   \n",
       "mean                NaN                NaN                  NaN           NaN   \n",
       "std                 NaN                NaN                  NaN           NaN   \n",
       "min                 NaN                NaN                  NaN           NaN   \n",
       "25%                 NaN                NaN                  NaN           NaN   \n",
       "50%                 NaN                NaN                  NaN           NaN   \n",
       "75%                 NaN                NaN                  NaN           NaN   \n",
       "max                 NaN                NaN                  NaN           NaN   \n",
       "\n",
       "       IncidentCity IncidentAddress  IncidentTime  ...  DateOfPolicyCoverage  \\\n",
       "count         28836           28836  28805.000000  ...                 28836   \n",
       "unique            7            1000           NaN  ...                  6779   \n",
       "top           City2   Location 1341           NaN  ...            11/11/1998   \n",
       "freq           4486              73           NaN  ...                    38   \n",
       "mean            NaN             NaN     11.764069  ...                   NaN   \n",
       "std             NaN             NaN      6.148869  ...                   NaN   \n",
       "min             NaN             NaN      0.000000  ...                   NaN   \n",
       "25%             NaN             NaN      6.000000  ...                   NaN   \n",
       "50%             NaN             NaN     12.000000  ...                   NaN   \n",
       "75%             NaN             NaN     17.000000  ...                   NaN   \n",
       "max             NaN             NaN     23.000000  ...                   NaN   \n",
       "\n",
       "       InsurancePolicyState  Policy_CombinedSingleLimit  Policy_Deductible  \\\n",
       "count                 28836                       28836       28836.000000   \n",
       "unique                    3                           9                NaN   \n",
       "top                  State3                     250/500                NaN   \n",
       "freq                  10146                        8260                NaN   \n",
       "mean                    NaN                         NaN        1114.282529   \n",
       "std                     NaN                         NaN         546.632816   \n",
       "min                     NaN                         NaN         500.000000   \n",
       "25%                     NaN                         NaN         622.000000   \n",
       "50%                     NaN                         NaN        1000.000000   \n",
       "75%                     NaN                         NaN        1627.000000   \n",
       "max                     NaN                         NaN        2000.000000   \n",
       "\n",
       "       PolicyAnnualPremium  UmbrellaLimit  InsuredRelationship  VehicleMake  \\\n",
       "count         28695.000000   2.883600e+04                28836        28786   \n",
       "unique                 NaN            NaN                    6           14   \n",
       "top                    NaN            NaN            own-child         Saab   \n",
       "freq                   NaN            NaN                 5242         2415   \n",
       "mean           1261.702646   9.836680e+05                  NaN          NaN   \n",
       "std             205.385158   1.969282e+06                  NaN          NaN   \n",
       "min             436.280000  -1.000000e+06                  NaN          NaN   \n",
       "25%            1124.425000   0.000000e+00                  NaN          NaN   \n",
       "50%            1266.440000   0.000000e+00                  NaN          NaN   \n",
       "75%            1397.200000   4.859610e+05                  NaN          NaN   \n",
       "max            2047.590000   1.000000e+07                  NaN          NaN   \n",
       "\n",
       "        VehicleModel  VehicleYOM  \n",
       "count          28836       28836  \n",
       "unique            39          21  \n",
       "top              RAM        2007  \n",
       "freq            1344        1730  \n",
       "mean             NaN         NaN  \n",
       "std              NaN         NaN  \n",
       "min              NaN         NaN  \n",
       "25%              NaN         NaN  \n",
       "50%              NaN         NaN  \n",
       "75%              NaN         NaN  \n",
       "max              NaN         NaN  \n",
       "\n",
       "[11 rows x 38 columns]"
      ]
     },
     "execution_count": 81,
     "metadata": {},
     "output_type": "execute_result"
    }
   ],
   "source": [
    "data.describe(include='all')"
   ]
  },
  {
   "cell_type": "code",
   "execution_count": 82,
   "metadata": {},
   "outputs": [
    {
     "data": {
      "text/html": [
       "<div>\n",
       "<style scoped>\n",
       "    .dataframe tbody tr th:only-of-type {\n",
       "        vertical-align: middle;\n",
       "    }\n",
       "\n",
       "    .dataframe tbody tr th {\n",
       "        vertical-align: top;\n",
       "    }\n",
       "\n",
       "    .dataframe thead th {\n",
       "        text-align: right;\n",
       "    }\n",
       "</style>\n",
       "<table border=\"1\" class=\"dataframe\">\n",
       "  <thead>\n",
       "    <tr style=\"text-align: right;\">\n",
       "      <th></th>\n",
       "      <th>ReportedFraud</th>\n",
       "      <th>DateOfIncident</th>\n",
       "      <th>TypeOfIncident</th>\n",
       "      <th>TypeOfCollission</th>\n",
       "      <th>SeverityOfIncident</th>\n",
       "      <th>AuthoritiesContacted</th>\n",
       "      <th>IncidentState</th>\n",
       "      <th>IncidentCity</th>\n",
       "      <th>IncidentAddress</th>\n",
       "      <th>IncidentTime</th>\n",
       "      <th>...</th>\n",
       "      <th>DateOfPolicyCoverage</th>\n",
       "      <th>InsurancePolicyState</th>\n",
       "      <th>Policy_CombinedSingleLimit</th>\n",
       "      <th>Policy_Deductible</th>\n",
       "      <th>PolicyAnnualPremium</th>\n",
       "      <th>UmbrellaLimit</th>\n",
       "      <th>InsuredRelationship</th>\n",
       "      <th>VehicleMake</th>\n",
       "      <th>VehicleModel</th>\n",
       "      <th>VehicleYOM</th>\n",
       "    </tr>\n",
       "  </thead>\n",
       "  <tbody>\n",
       "    <tr>\n",
       "      <th>count</th>\n",
       "      <td>8912.000000</td>\n",
       "      <td>8912</td>\n",
       "      <td>8912</td>\n",
       "      <td>7149</td>\n",
       "      <td>8912</td>\n",
       "      <td>8912</td>\n",
       "      <td>8912</td>\n",
       "      <td>8912</td>\n",
       "      <td>8912</td>\n",
       "      <td>8905.000000</td>\n",
       "      <td>...</td>\n",
       "      <td>8912</td>\n",
       "      <td>8912</td>\n",
       "      <td>8912</td>\n",
       "      <td>8912.000000</td>\n",
       "      <td>8865.000000</td>\n",
       "      <td>8.912000e+03</td>\n",
       "      <td>8912</td>\n",
       "      <td>8904</td>\n",
       "      <td>8912</td>\n",
       "      <td>8912</td>\n",
       "    </tr>\n",
       "    <tr>\n",
       "      <th>unique</th>\n",
       "      <td>NaN</td>\n",
       "      <td>67</td>\n",
       "      <td>4</td>\n",
       "      <td>3</td>\n",
       "      <td>4</td>\n",
       "      <td>5</td>\n",
       "      <td>7</td>\n",
       "      <td>7</td>\n",
       "      <td>996</td>\n",
       "      <td>NaN</td>\n",
       "      <td>...</td>\n",
       "      <td>4533</td>\n",
       "      <td>3</td>\n",
       "      <td>9</td>\n",
       "      <td>NaN</td>\n",
       "      <td>NaN</td>\n",
       "      <td>NaN</td>\n",
       "      <td>6</td>\n",
       "      <td>14</td>\n",
       "      <td>38</td>\n",
       "      <td>21</td>\n",
       "    </tr>\n",
       "    <tr>\n",
       "      <th>top</th>\n",
       "      <td>NaN</td>\n",
       "      <td>2015-02-17</td>\n",
       "      <td>Multi-vehicle Collision</td>\n",
       "      <td>Rear Collision</td>\n",
       "      <td>Minor Damage</td>\n",
       "      <td>Police</td>\n",
       "      <td>State5</td>\n",
       "      <td>City2</td>\n",
       "      <td>Location 1341</td>\n",
       "      <td>NaN</td>\n",
       "      <td>...</td>\n",
       "      <td>1992-04-14</td>\n",
       "      <td>State3</td>\n",
       "      <td>100/300</td>\n",
       "      <td>NaN</td>\n",
       "      <td>NaN</td>\n",
       "      <td>NaN</td>\n",
       "      <td>own-child</td>\n",
       "      <td>Suburu</td>\n",
       "      <td>Wrangler</td>\n",
       "      <td>2010</td>\n",
       "    </tr>\n",
       "    <tr>\n",
       "      <th>freq</th>\n",
       "      <td>NaN</td>\n",
       "      <td>211</td>\n",
       "      <td>3594</td>\n",
       "      <td>2602</td>\n",
       "      <td>3378</td>\n",
       "      <td>2623</td>\n",
       "      <td>2489</td>\n",
       "      <td>1405</td>\n",
       "      <td>29</td>\n",
       "      <td>NaN</td>\n",
       "      <td>...</td>\n",
       "      <td>15</td>\n",
       "      <td>3132</td>\n",
       "      <td>2561</td>\n",
       "      <td>NaN</td>\n",
       "      <td>NaN</td>\n",
       "      <td>NaN</td>\n",
       "      <td>1643</td>\n",
       "      <td>743</td>\n",
       "      <td>507</td>\n",
       "      <td>544</td>\n",
       "    </tr>\n",
       "    <tr>\n",
       "      <th>mean</th>\n",
       "      <td>0.147442</td>\n",
       "      <td>NaN</td>\n",
       "      <td>NaN</td>\n",
       "      <td>NaN</td>\n",
       "      <td>NaN</td>\n",
       "      <td>NaN</td>\n",
       "      <td>NaN</td>\n",
       "      <td>NaN</td>\n",
       "      <td>NaN</td>\n",
       "      <td>11.785963</td>\n",
       "      <td>...</td>\n",
       "      <td>NaN</td>\n",
       "      <td>NaN</td>\n",
       "      <td>NaN</td>\n",
       "      <td>1123.580790</td>\n",
       "      <td>1260.235059</td>\n",
       "      <td>9.318594e+05</td>\n",
       "      <td>NaN</td>\n",
       "      <td>NaN</td>\n",
       "      <td>NaN</td>\n",
       "      <td>NaN</td>\n",
       "    </tr>\n",
       "    <tr>\n",
       "      <th>std</th>\n",
       "      <td>0.354566</td>\n",
       "      <td>NaN</td>\n",
       "      <td>NaN</td>\n",
       "      <td>NaN</td>\n",
       "      <td>NaN</td>\n",
       "      <td>NaN</td>\n",
       "      <td>NaN</td>\n",
       "      <td>NaN</td>\n",
       "      <td>NaN</td>\n",
       "      <td>6.157104</td>\n",
       "      <td>...</td>\n",
       "      <td>NaN</td>\n",
       "      <td>NaN</td>\n",
       "      <td>NaN</td>\n",
       "      <td>553.139684</td>\n",
       "      <td>205.534081</td>\n",
       "      <td>1.919603e+06</td>\n",
       "      <td>NaN</td>\n",
       "      <td>NaN</td>\n",
       "      <td>NaN</td>\n",
       "      <td>NaN</td>\n",
       "    </tr>\n",
       "    <tr>\n",
       "      <th>min</th>\n",
       "      <td>0.000000</td>\n",
       "      <td>NaN</td>\n",
       "      <td>NaN</td>\n",
       "      <td>NaN</td>\n",
       "      <td>NaN</td>\n",
       "      <td>NaN</td>\n",
       "      <td>NaN</td>\n",
       "      <td>NaN</td>\n",
       "      <td>NaN</td>\n",
       "      <td>0.000000</td>\n",
       "      <td>...</td>\n",
       "      <td>NaN</td>\n",
       "      <td>NaN</td>\n",
       "      <td>NaN</td>\n",
       "      <td>500.000000</td>\n",
       "      <td>433.330000</td>\n",
       "      <td>-8.836920e+05</td>\n",
       "      <td>NaN</td>\n",
       "      <td>NaN</td>\n",
       "      <td>NaN</td>\n",
       "      <td>NaN</td>\n",
       "    </tr>\n",
       "    <tr>\n",
       "      <th>25%</th>\n",
       "      <td>0.000000</td>\n",
       "      <td>NaN</td>\n",
       "      <td>NaN</td>\n",
       "      <td>NaN</td>\n",
       "      <td>NaN</td>\n",
       "      <td>NaN</td>\n",
       "      <td>NaN</td>\n",
       "      <td>NaN</td>\n",
       "      <td>NaN</td>\n",
       "      <td>6.000000</td>\n",
       "      <td>...</td>\n",
       "      <td>NaN</td>\n",
       "      <td>NaN</td>\n",
       "      <td>NaN</td>\n",
       "      <td>622.000000</td>\n",
       "      <td>1119.460000</td>\n",
       "      <td>0.000000e+00</td>\n",
       "      <td>NaN</td>\n",
       "      <td>NaN</td>\n",
       "      <td>NaN</td>\n",
       "      <td>NaN</td>\n",
       "    </tr>\n",
       "    <tr>\n",
       "      <th>50%</th>\n",
       "      <td>0.000000</td>\n",
       "      <td>NaN</td>\n",
       "      <td>NaN</td>\n",
       "      <td>NaN</td>\n",
       "      <td>NaN</td>\n",
       "      <td>NaN</td>\n",
       "      <td>NaN</td>\n",
       "      <td>NaN</td>\n",
       "      <td>NaN</td>\n",
       "      <td>12.000000</td>\n",
       "      <td>...</td>\n",
       "      <td>NaN</td>\n",
       "      <td>NaN</td>\n",
       "      <td>NaN</td>\n",
       "      <td>1000.000000</td>\n",
       "      <td>1265.840000</td>\n",
       "      <td>0.000000e+00</td>\n",
       "      <td>NaN</td>\n",
       "      <td>NaN</td>\n",
       "      <td>NaN</td>\n",
       "      <td>NaN</td>\n",
       "    </tr>\n",
       "    <tr>\n",
       "      <th>75%</th>\n",
       "      <td>0.000000</td>\n",
       "      <td>NaN</td>\n",
       "      <td>NaN</td>\n",
       "      <td>NaN</td>\n",
       "      <td>NaN</td>\n",
       "      <td>NaN</td>\n",
       "      <td>NaN</td>\n",
       "      <td>NaN</td>\n",
       "      <td>NaN</td>\n",
       "      <td>17.000000</td>\n",
       "      <td>...</td>\n",
       "      <td>NaN</td>\n",
       "      <td>NaN</td>\n",
       "      <td>NaN</td>\n",
       "      <td>1691.250000</td>\n",
       "      <td>1399.240000</td>\n",
       "      <td>2.836810e+05</td>\n",
       "      <td>NaN</td>\n",
       "      <td>NaN</td>\n",
       "      <td>NaN</td>\n",
       "      <td>NaN</td>\n",
       "    </tr>\n",
       "    <tr>\n",
       "      <th>max</th>\n",
       "      <td>1.000000</td>\n",
       "      <td>NaN</td>\n",
       "      <td>NaN</td>\n",
       "      <td>NaN</td>\n",
       "      <td>NaN</td>\n",
       "      <td>NaN</td>\n",
       "      <td>NaN</td>\n",
       "      <td>NaN</td>\n",
       "      <td>NaN</td>\n",
       "      <td>23.000000</td>\n",
       "      <td>...</td>\n",
       "      <td>NaN</td>\n",
       "      <td>NaN</td>\n",
       "      <td>NaN</td>\n",
       "      <td>2000.000000</td>\n",
       "      <td>2033.540000</td>\n",
       "      <td>9.699227e+06</td>\n",
       "      <td>NaN</td>\n",
       "      <td>NaN</td>\n",
       "      <td>NaN</td>\n",
       "      <td>NaN</td>\n",
       "    </tr>\n",
       "  </tbody>\n",
       "</table>\n",
       "<p>11 rows × 38 columns</p>\n",
       "</div>"
      ],
      "text/plain": [
       "        ReportedFraud DateOfIncident           TypeOfIncident  \\\n",
       "count     8912.000000           8912                     8912   \n",
       "unique            NaN             67                        4   \n",
       "top               NaN     2015-02-17  Multi-vehicle Collision   \n",
       "freq              NaN            211                     3594   \n",
       "mean         0.147442            NaN                      NaN   \n",
       "std          0.354566            NaN                      NaN   \n",
       "min          0.000000            NaN                      NaN   \n",
       "25%          0.000000            NaN                      NaN   \n",
       "50%          0.000000            NaN                      NaN   \n",
       "75%          0.000000            NaN                      NaN   \n",
       "max          1.000000            NaN                      NaN   \n",
       "\n",
       "       TypeOfCollission SeverityOfIncident AuthoritiesContacted IncidentState  \\\n",
       "count              7149               8912                 8912          8912   \n",
       "unique                3                  4                    5             7   \n",
       "top      Rear Collision       Minor Damage               Police        State5   \n",
       "freq               2602               3378                 2623          2489   \n",
       "mean                NaN                NaN                  NaN           NaN   \n",
       "std                 NaN                NaN                  NaN           NaN   \n",
       "min                 NaN                NaN                  NaN           NaN   \n",
       "25%                 NaN                NaN                  NaN           NaN   \n",
       "50%                 NaN                NaN                  NaN           NaN   \n",
       "75%                 NaN                NaN                  NaN           NaN   \n",
       "max                 NaN                NaN                  NaN           NaN   \n",
       "\n",
       "       IncidentCity IncidentAddress  IncidentTime  ...  DateOfPolicyCoverage  \\\n",
       "count          8912            8912   8905.000000  ...                  8912   \n",
       "unique            7             996           NaN  ...                  4533   \n",
       "top           City2   Location 1341           NaN  ...            1992-04-14   \n",
       "freq           1405              29           NaN  ...                    15   \n",
       "mean            NaN             NaN     11.785963  ...                   NaN   \n",
       "std             NaN             NaN      6.157104  ...                   NaN   \n",
       "min             NaN             NaN      0.000000  ...                   NaN   \n",
       "25%             NaN             NaN      6.000000  ...                   NaN   \n",
       "50%             NaN             NaN     12.000000  ...                   NaN   \n",
       "75%             NaN             NaN     17.000000  ...                   NaN   \n",
       "max             NaN             NaN     23.000000  ...                   NaN   \n",
       "\n",
       "       InsurancePolicyState  Policy_CombinedSingleLimit  Policy_Deductible  \\\n",
       "count                  8912                        8912        8912.000000   \n",
       "unique                    3                           9                NaN   \n",
       "top                  State3                     100/300                NaN   \n",
       "freq                   3132                        2561                NaN   \n",
       "mean                    NaN                         NaN        1123.580790   \n",
       "std                     NaN                         NaN         553.139684   \n",
       "min                     NaN                         NaN         500.000000   \n",
       "25%                     NaN                         NaN         622.000000   \n",
       "50%                     NaN                         NaN        1000.000000   \n",
       "75%                     NaN                         NaN        1691.250000   \n",
       "max                     NaN                         NaN        2000.000000   \n",
       "\n",
       "       PolicyAnnualPremium  UmbrellaLimit  InsuredRelationship  VehicleMake  \\\n",
       "count          8865.000000   8.912000e+03                 8912         8904   \n",
       "unique                 NaN            NaN                    6           14   \n",
       "top                    NaN            NaN            own-child       Suburu   \n",
       "freq                   NaN            NaN                 1643          743   \n",
       "mean           1260.235059   9.318594e+05                  NaN          NaN   \n",
       "std             205.534081   1.919603e+06                  NaN          NaN   \n",
       "min             433.330000  -8.836920e+05                  NaN          NaN   \n",
       "25%            1119.460000   0.000000e+00                  NaN          NaN   \n",
       "50%            1265.840000   0.000000e+00                  NaN          NaN   \n",
       "75%            1399.240000   2.836810e+05                  NaN          NaN   \n",
       "max            2033.540000   9.699227e+06                  NaN          NaN   \n",
       "\n",
       "        VehicleModel  VehicleYOM  \n",
       "count           8912        8912  \n",
       "unique            38          21  \n",
       "top         Wrangler        2010  \n",
       "freq             507         544  \n",
       "mean             NaN         NaN  \n",
       "std              NaN         NaN  \n",
       "min              NaN         NaN  \n",
       "25%              NaN         NaN  \n",
       "50%              NaN         NaN  \n",
       "75%              NaN         NaN  \n",
       "max              NaN         NaN  \n",
       "\n",
       "[11 rows x 38 columns]"
      ]
     },
     "execution_count": 82,
     "metadata": {},
     "output_type": "execute_result"
    }
   ],
   "source": [
    "data_test.describe(include='all')"
   ]
  },
  {
   "cell_type": "markdown",
   "metadata": {},
   "source": [
    "#### Dropping  columns"
   ]
  },
  {
   "cell_type": "code",
   "execution_count": 83,
   "metadata": {},
   "outputs": [],
   "source": [
    "data.drop(['InsuredGender','InsuredZipCode','IncidentState','InsuredHobbies','Policy_CombinedSingleLimit','UmbrellaLimit','InsuredRelationship','TypeOfCollission','AmountOfInjuryClaim','AmountOfPropertyClaim','AmountOfVehicleDamage','IncidentAddress'],axis=1,inplace=True)"
   ]
  },
  {
   "cell_type": "code",
   "execution_count": 84,
   "metadata": {},
   "outputs": [],
   "source": [
    "data_test.drop(['InsuredGender','InsuredZipCode','IncidentState','InsuredHobbies','Policy_CombinedSingleLimit','UmbrellaLimit','InsuredRelationship','TypeOfCollission','AmountOfInjuryClaim','AmountOfPropertyClaim','AmountOfVehicleDamage','IncidentAddress'],axis=1,inplace=True)"
   ]
  },
  {
   "cell_type": "code",
   "execution_count": 85,
   "metadata": {},
   "outputs": [
    {
     "data": {
      "text/plain": [
       "(28836, 26)"
      ]
     },
     "execution_count": 85,
     "metadata": {},
     "output_type": "execute_result"
    }
   ],
   "source": [
    "data.shape"
   ]
  },
  {
   "cell_type": "code",
   "execution_count": 86,
   "metadata": {},
   "outputs": [
    {
     "data": {
      "text/plain": [
       "(8912, 26)"
      ]
     },
     "execution_count": 86,
     "metadata": {},
     "output_type": "execute_result"
    }
   ],
   "source": [
    "data_test.shape"
   ]
  },
  {
   "cell_type": "markdown",
   "metadata": {},
   "source": [
    "#### Missing Data Analysis"
   ]
  },
  {
   "cell_type": "code",
   "execution_count": 87,
   "metadata": {},
   "outputs": [
    {
     "data": {
      "text/plain": [
       "ReportedFraud                0\n",
       "DateOfIncident               0\n",
       "TypeOfIncident               0\n",
       "SeverityOfIncident           0\n",
       "AuthoritiesContacted         0\n",
       "IncidentCity                 0\n",
       "IncidentTime                31\n",
       "NumberOfVehicles             0\n",
       "PropertyDamage           10459\n",
       "BodilyInjuries               0\n",
       "Witnesses                   46\n",
       "PoliceReport              9805\n",
       "AmountOfTotalClaim          50\n",
       "InsuredAge                   0\n",
       "InsuredEducationLevel        0\n",
       "InsuredOccupation            0\n",
       "CapitalGains                 0\n",
       "CapitalLoss                  0\n",
       "CustomerLoyaltyPeriod        0\n",
       "DateOfPolicyCoverage         0\n",
       "InsurancePolicyState         0\n",
       "Policy_Deductible            0\n",
       "PolicyAnnualPremium        141\n",
       "VehicleMake                 50\n",
       "VehicleModel                 0\n",
       "VehicleYOM                   0\n",
       "dtype: int64"
      ]
     },
     "execution_count": 87,
     "metadata": {},
     "output_type": "execute_result"
    }
   ],
   "source": [
    "data.isnull().sum()"
   ]
  },
  {
   "cell_type": "code",
   "execution_count": 88,
   "metadata": {},
   "outputs": [
    {
     "data": {
      "text/plain": [
       "ReportedFraud               0\n",
       "DateOfIncident              0\n",
       "TypeOfIncident              0\n",
       "SeverityOfIncident          0\n",
       "AuthoritiesContacted        0\n",
       "IncidentCity                0\n",
       "IncidentTime                7\n",
       "NumberOfVehicles            0\n",
       "PropertyDamage           3199\n",
       "BodilyInjuries              0\n",
       "Witnesses                  12\n",
       "PoliceReport             3014\n",
       "AmountOfTotalClaim          8\n",
       "InsuredAge                  0\n",
       "InsuredEducationLevel       0\n",
       "InsuredOccupation           0\n",
       "CapitalGains                0\n",
       "CapitalLoss                 0\n",
       "CustomerLoyaltyPeriod       0\n",
       "DateOfPolicyCoverage        0\n",
       "InsurancePolicyState        0\n",
       "Policy_Deductible           0\n",
       "PolicyAnnualPremium        47\n",
       "VehicleMake                 8\n",
       "VehicleModel                0\n",
       "VehicleYOM                  0\n",
       "dtype: int64"
      ]
     },
     "execution_count": 88,
     "metadata": {},
     "output_type": "execute_result"
    }
   ],
   "source": [
    "data_test.isnull().sum()"
   ]
  },
  {
   "cell_type": "code",
   "execution_count": 89,
   "metadata": {},
   "outputs": [
    {
     "name": "stdout",
     "output_type": "stream",
     "text": [
      "(28836, 26)\n"
     ]
    }
   ],
   "source": [
    "print (data.shape)"
   ]
  },
  {
   "cell_type": "code",
   "execution_count": 90,
   "metadata": {},
   "outputs": [
    {
     "name": "stdout",
     "output_type": "stream",
     "text": [
      "(8912, 26)\n"
     ]
    }
   ],
   "source": [
    "print(data_test.shape)"
   ]
  },
  {
   "cell_type": "markdown",
   "metadata": {},
   "source": [
    "# Feature engineering  "
   ]
  },
  {
   "cell_type": "markdown",
   "metadata": {},
   "source": [
    "### Extracting month and day"
   ]
  },
  {
   "cell_type": "markdown",
   "metadata": {},
   "source": [
    "Extracting month and day from Date of Incident and policy coverage "
   ]
  },
  {
   "cell_type": "code",
   "execution_count": 91,
   "metadata": {},
   "outputs": [],
   "source": [
    "data['Incident_month'] = pd.DatetimeIndex(data['DateOfIncident']).month\n",
    "data['Incident_day'] = pd.DatetimeIndex(data['DateOfIncident']).day\n",
    "data['Policy_month'] = pd.DatetimeIndex(data['DateOfPolicyCoverage']).month  ## Month of Date policy coverage"
   ]
  },
  {
   "cell_type": "markdown",
   "metadata": {},
   "source": [
    "Repeating for test data"
   ]
  },
  {
   "cell_type": "code",
   "execution_count": 92,
   "metadata": {},
   "outputs": [],
   "source": [
    "data_test['Incident_month'] = pd.DatetimeIndex(data_test['DateOfIncident']).month\n",
    "data_test['Incident_day'] = pd.DatetimeIndex(data_test['DateOfIncident']).day\n",
    "data_test['Policy_month'] = pd.DatetimeIndex(data_test['DateOfPolicyCoverage']).month  ## Month of Date policy coverage"
   ]
  },
  {
   "cell_type": "markdown",
   "metadata": {},
   "source": [
    "### Combining gain and loss columns to get one column representing loss or gain"
   ]
  },
  {
   "cell_type": "markdown",
   "metadata": {},
   "source": [
    "Train"
   ]
  },
  {
   "cell_type": "code",
   "execution_count": 93,
   "metadata": {},
   "outputs": [],
   "source": [
    "data['Total_gain_loss'] = data['CapitalGains']+data['CapitalLoss']\n",
    "data['nor_Total_gain_loss'] = (data['Total_gain_loss'] - data['Total_gain_loss'].min()) / (data['Total_gain_loss'].max() - data['Total_gain_loss'].min())"
   ]
  },
  {
   "cell_type": "markdown",
   "metadata": {},
   "source": [
    "Test"
   ]
  },
  {
   "cell_type": "code",
   "execution_count": 94,
   "metadata": {},
   "outputs": [],
   "source": [
    "data_test['Total_gain_loss'] = data_test['CapitalGains']+data_test['CapitalLoss']\n",
    "data_test['nor_Total_gain_loss'] = (data_test['Total_gain_loss'] - data_test['Total_gain_loss'].min()) / (data_test['Total_gain_loss'].max() - data_test['Total_gain_loss'].min())"
   ]
  },
  {
   "cell_type": "markdown",
   "metadata": {},
   "source": [
    "Normalization of Amount of total claim - The other amount columns are dropped as all of them added together forms Amount of Claim"
   ]
  },
  {
   "cell_type": "markdown",
   "metadata": {},
   "source": [
    "Train"
   ]
  },
  {
   "cell_type": "code",
   "execution_count": 95,
   "metadata": {},
   "outputs": [],
   "source": [
    "data['nor_Total_amount'] = (data['AmountOfTotalClaim'] - data['AmountOfTotalClaim'].min()) / (data['AmountOfTotalClaim'].max() - data['AmountOfTotalClaim'].min())"
   ]
  },
  {
   "cell_type": "markdown",
   "metadata": {},
   "source": [
    "Test"
   ]
  },
  {
   "cell_type": "code",
   "execution_count": 96,
   "metadata": {},
   "outputs": [],
   "source": [
    "data_test['nor_Total_amount'] = (data_test['AmountOfTotalClaim'] - data_test['AmountOfTotalClaim'].min()) / (data_test['AmountOfTotalClaim'].max() - data_test['AmountOfTotalClaim'].min())"
   ]
  },
  {
   "cell_type": "markdown",
   "metadata": {},
   "source": [
    "Dropping columns which are feature engineered"
   ]
  },
  {
   "cell_type": "markdown",
   "metadata": {},
   "source": [
    "Train"
   ]
  },
  {
   "cell_type": "code",
   "execution_count": 97,
   "metadata": {},
   "outputs": [],
   "source": [
    "data.drop([\"DateOfPolicyCoverage\"], axis = 1, inplace = True)\n",
    "data.drop([\"DateOfIncident\"], axis = 1, inplace = True)\n",
    "data.drop([\"CapitalGains\"], axis = 1, inplace = True)\n",
    "data.drop([\"CapitalLoss\"], axis = 1, inplace = True)\n",
    "data.drop([\"Total_gain_loss\"], axis = 1, inplace = True)\n",
    "data.drop(['AmountOfTotalClaim'], axis = 1, inplace = True)"
   ]
  },
  {
   "cell_type": "markdown",
   "metadata": {},
   "source": [
    "\n",
    "Test"
   ]
  },
  {
   "cell_type": "code",
   "execution_count": 98,
   "metadata": {},
   "outputs": [],
   "source": [
    "data_test.drop([\"DateOfPolicyCoverage\"], axis = 1, inplace = True)\n",
    "data_test.drop([\"DateOfIncident\"], axis = 1, inplace = True)\n",
    "data_test.drop([\"CapitalGains\"], axis = 1, inplace = True)\n",
    "data_test.drop([\"CapitalLoss\"], axis = 1, inplace = True)\n",
    "data_test.drop([\"Total_gain_loss\"], axis = 1, inplace = True)\n",
    "data_test.drop(['AmountOfTotalClaim'], axis = 1, inplace = True)"
   ]
  },
  {
   "cell_type": "markdown",
   "metadata": {},
   "source": [
    "Conversion into dataframe"
   ]
  },
  {
   "cell_type": "code",
   "execution_count": 99,
   "metadata": {},
   "outputs": [],
   "source": [
    "df_data=pd.DataFrame(data)"
   ]
  },
  {
   "cell_type": "code",
   "execution_count": 100,
   "metadata": {},
   "outputs": [],
   "source": [
    "df_data_test=pd.DataFrame(data_test)"
   ]
  },
  {
   "cell_type": "markdown",
   "metadata": {},
   "source": [
    "Checking for shape"
   ]
  },
  {
   "cell_type": "code",
   "execution_count": 101,
   "metadata": {},
   "outputs": [
    {
     "data": {
      "text/plain": [
       "(28836, 26)"
      ]
     },
     "execution_count": 101,
     "metadata": {},
     "output_type": "execute_result"
    }
   ],
   "source": [
    "df_data.shape"
   ]
  },
  {
   "cell_type": "code",
   "execution_count": 102,
   "metadata": {},
   "outputs": [
    {
     "data": {
      "text/plain": [
       "(8912, 26)"
      ]
     },
     "execution_count": 102,
     "metadata": {},
     "output_type": "execute_result"
    }
   ],
   "source": [
    "df_data_test.shape"
   ]
  },
  {
   "cell_type": "markdown",
   "metadata": {},
   "source": [
    "# DATA IMPUTATION "
   ]
  },
  {
   "cell_type": "markdown",
   "metadata": {},
   "source": [
    "Creating categorical and numerical dataframe and imputing numerical with mean and categorical with mode and combining both"
   ]
  },
  {
   "cell_type": "markdown",
   "metadata": {},
   "source": [
    "Categorical"
   ]
  },
  {
   "cell_type": "code",
   "execution_count": 103,
   "metadata": {},
   "outputs": [],
   "source": [
    "data_Cat =df_data[[ 'AuthoritiesContacted','InsuredEducationLevel','InsuredOccupation','InsurancePolicyState','TypeOfIncident','SeverityOfIncident','IncidentCity','Incident_day','NumberOfVehicles','PropertyDamage','BodilyInjuries','Witnesses','PoliceReport','Incident_month','Policy_month','ReportedFraud','VehicleMake','VehicleModel']]\n",
    "data_test_Cat =df_data_test[[ 'AuthoritiesContacted','InsuredEducationLevel','InsuredOccupation','InsurancePolicyState','TypeOfIncident','SeverityOfIncident','IncidentCity','Incident_day','NumberOfVehicles','PropertyDamage','BodilyInjuries','Witnesses','PoliceReport','Incident_month','Policy_month','VehicleMake','VehicleModel']]"
   ]
  },
  {
   "cell_type": "markdown",
   "metadata": {},
   "source": [
    "Numerical"
   ]
  },
  {
   "cell_type": "code",
   "execution_count": 104,
   "metadata": {},
   "outputs": [],
   "source": [
    "data_Num = df_data[['InsuredAge','nor_Total_gain_loss','CustomerLoyaltyPeriod','IncidentTime','nor_Total_amount','Policy_Deductible','PolicyAnnualPremium','VehicleYOM']]\n",
    "data_test_Num = df_data_test[['InsuredAge','nor_Total_gain_loss','CustomerLoyaltyPeriod','IncidentTime','nor_Total_amount','Policy_Deductible','PolicyAnnualPremium','VehicleYOM']]"
   ]
  },
  {
   "cell_type": "markdown",
   "metadata": {},
   "source": [
    "Imputing  - TRAIN DATA  and combining"
   ]
  },
  {
   "cell_type": "code",
   "execution_count": 105,
   "metadata": {},
   "outputs": [],
   "source": [
    "data_Cat = data_Cat.fillna(data_Cat.mode().iloc[0])\n",
    "data_Num = data_Num.fillna(data_Num.mean())\n",
    "data_comb = pd.concat([data_Cat, data_Num], axis = 1)"
   ]
  },
  {
   "cell_type": "markdown",
   "metadata": {},
   "source": [
    "Imputing -TEST DATA and combining"
   ]
  },
  {
   "cell_type": "code",
   "execution_count": 106,
   "metadata": {},
   "outputs": [],
   "source": [
    "data_test_Cat = data_test_Cat.fillna(data_test_Cat.mode().iloc[0])\n",
    "data_test_Num = data_test_Num.fillna(data_test_Num.mean())\n",
    "data_test_comb = pd.concat([data_test_Cat, data_test_Num], axis = 1)"
   ]
  },
  {
   "cell_type": "code",
   "execution_count": 107,
   "metadata": {},
   "outputs": [],
   "source": [
    "df_data_comb=pd.DataFrame(data_comb)\n",
    "df_data_test_comb=pd.DataFrame(data_test_comb)"
   ]
  },
  {
   "cell_type": "markdown",
   "metadata": {},
   "source": [
    "Removing Vehicle Mode because of level mismatch "
   ]
  },
  {
   "cell_type": "code",
   "execution_count": 108,
   "metadata": {},
   "outputs": [],
   "source": [
    "df_data_comb.drop([\"VehicleModel\"], axis = 1, inplace = True)\n",
    "df_data_test_comb.drop([\"VehicleModel\"], axis = 1, inplace = True)"
   ]
  },
  {
   "cell_type": "markdown",
   "metadata": {},
   "source": [
    "# SCALING DATA"
   ]
  },
  {
   "cell_type": "code",
   "execution_count": 109,
   "metadata": {},
   "outputs": [],
   "source": [
    "cat_cols1=['InsuredEducationLevel','InsuredOccupation','InsurancePolicyState','TypeOfIncident','SeverityOfIncident','IncidentCity','PropertyDamage','Witnesses','PoliceReport','VehicleMake']\n",
    "num_cols1=['NumberOfVehicles','BodilyInjuries','Incident_month','Policy_month','InsuredAge','nor_Total_gain_loss','CustomerLoyaltyPeriod','IncidentTime','nor_Total_amount','Policy_Deductible','PolicyAnnualPremium','VehicleYOM']\n"
   ]
  },
  {
   "cell_type": "code",
   "execution_count": 110,
   "metadata": {},
   "outputs": [],
   "source": [
    "df_data_comb = pd.get_dummies(df_data_comb, columns=cat_cols1, drop_first=True)"
   ]
  },
  {
   "cell_type": "code",
   "execution_count": 111,
   "metadata": {},
   "outputs": [],
   "source": [
    "scaler = StandardScaler()\n",
    "\n",
    "scaler.fit(df_data_comb.loc[:,num_cols1])\n",
    "\n",
    "df_data_comb.loc[:,num_cols1] = scaler.transform(df_data_comb.loc[:,num_cols1])"
   ]
  },
  {
   "cell_type": "code",
   "execution_count": 112,
   "metadata": {},
   "outputs": [
    {
     "data": {
      "text/plain": [
       "(28836, 66)"
      ]
     },
     "execution_count": 112,
     "metadata": {},
     "output_type": "execute_result"
    }
   ],
   "source": [
    "df_data_comb.shape"
   ]
  },
  {
   "cell_type": "markdown",
   "metadata": {},
   "source": [
    "# Test data Scaling"
   ]
  },
  {
   "cell_type": "code",
   "execution_count": 113,
   "metadata": {},
   "outputs": [],
   "source": [
    "df_data_test_comb = pd.get_dummies(df_data_test_comb, columns=cat_cols1, drop_first=True)"
   ]
  },
  {
   "cell_type": "code",
   "execution_count": 114,
   "metadata": {},
   "outputs": [],
   "source": [
    "scaler = StandardScaler()\n",
    "\n",
    "scaler.fit(df_data_test_comb.loc[:,num_cols1])\n",
    "\n",
    "\n",
    "df_data_test_comb.loc[:,num_cols1] = scaler.transform(df_data_test_comb.loc[:,num_cols1])"
   ]
  },
  {
   "cell_type": "code",
   "execution_count": 115,
   "metadata": {},
   "outputs": [
    {
     "data": {
      "text/plain": [
       "(8912, 65)"
      ]
     },
     "execution_count": 115,
     "metadata": {},
     "output_type": "execute_result"
    }
   ],
   "source": [
    "df_data_test_comb.shape"
   ]
  },
  {
   "cell_type": "markdown",
   "metadata": {},
   "source": [
    "# PRINCIPAL COMPONENT ANALYSIS"
   ]
  },
  {
   "cell_type": "code",
   "execution_count": 116,
   "metadata": {},
   "outputs": [],
   "source": [
    "from sklearn.preprocessing import StandardScaler\n",
    "features = ['InsuredAge','nor_Total_gain_loss','IncidentTime','nor_Total_gain_loss','CustomerLoyaltyPeriod']\n",
    "# Separating out the features\n",
    "a = df_data_comb.loc[:, features].values\n",
    "# Separating out the target\n",
    "b = df_data_comb.loc[:,['ReportedFraud']].values\n",
    "# Standardizing the features\n",
    "a = StandardScaler().fit_transform(a)"
   ]
  },
  {
   "cell_type": "code",
   "execution_count": 117,
   "metadata": {},
   "outputs": [],
   "source": [
    "from sklearn.preprocessing import StandardScaler\n",
    "features = ['InsuredAge','nor_Total_gain_loss','IncidentTime','nor_Total_gain_loss','CustomerLoyaltyPeriod']\n",
    "# Separating out the features\n",
    "x = df_data_test_comb.loc[:, features].values\n",
    "# Separating out the target\n",
    "#b = df_data_comb.loc[:,['ReportedFraud']].values\n",
    "# Standardizing the features\n",
    "x = StandardScaler().fit_transform(x)"
   ]
  },
  {
   "cell_type": "code",
   "execution_count": 118,
   "metadata": {},
   "outputs": [],
   "source": [
    "from sklearn.decomposition import PCA\n",
    "pca = PCA(n_components=2)\n",
    "principalComponents = pca.fit_transform(a)\n",
    "principalDf = pd.DataFrame(data = principalComponents, columns = ['principal component 1','principal component 2'])"
   ]
  },
  {
   "cell_type": "code",
   "execution_count": 119,
   "metadata": {},
   "outputs": [],
   "source": [
    "from sklearn.decomposition import PCA\n",
    "pca = PCA(n_components=2)\n",
    "principalComponents1 = pca.fit_transform(x)\n",
    "principalDf1 = pd.DataFrame(data = principalComponents1, columns = ['principal component 1','principal component 2'])"
   ]
  },
  {
   "cell_type": "code",
   "execution_count": 120,
   "metadata": {},
   "outputs": [],
   "source": [
    "finalDf = pd.concat([principalDf], axis = 1)\n",
    "finalDf1 = pd.concat([principalDf1], axis = 1)"
   ]
  },
  {
   "cell_type": "code",
   "execution_count": 121,
   "metadata": {},
   "outputs": [
    {
     "name": "stdout",
     "output_type": "stream",
     "text": [
      "       principal component 1  principal component 2\n",
      "0                  -0.280966               3.770366\n",
      "1                   1.534822              -1.490776\n",
      "2                   0.827713               2.233975\n",
      "3                  -1.029744              -2.104204\n",
      "4                  -0.537450              -1.835410\n",
      "...                      ...                    ...\n",
      "28831               0.201185               0.413042\n",
      "28832              -2.800572              -1.867502\n",
      "28833              -2.761397               0.369651\n",
      "28834              -2.030075               1.120069\n",
      "28835               1.276998              -2.239736\n",
      "\n",
      "[28836 rows x 2 columns]\n"
     ]
    }
   ],
   "source": [
    "print(finalDf)"
   ]
  },
  {
   "cell_type": "code",
   "execution_count": 122,
   "metadata": {},
   "outputs": [
    {
     "data": {
      "text/plain": [
       "array([0.40035381, 0.38942922])"
      ]
     },
     "execution_count": 122,
     "metadata": {},
     "output_type": "execute_result"
    }
   ],
   "source": [
    "pca.explained_variance_ratio_"
   ]
  },
  {
   "cell_type": "code",
   "execution_count": 123,
   "metadata": {},
   "outputs": [
    {
     "data": {
      "text/plain": [
       "Index(['principal component 1', 'principal component 2'], dtype='object')"
      ]
     },
     "execution_count": 123,
     "metadata": {},
     "output_type": "execute_result"
    }
   ],
   "source": [
    "finalDf.columns"
   ]
  },
  {
   "cell_type": "code",
   "execution_count": 124,
   "metadata": {},
   "outputs": [
    {
     "data": {
      "text/plain": [
       "Index(['principal component 1', 'principal component 2'], dtype='object')"
      ]
     },
     "execution_count": 124,
     "metadata": {},
     "output_type": "execute_result"
    }
   ],
   "source": [
    "finalDf1.columns"
   ]
  },
  {
   "cell_type": "markdown",
   "metadata": {},
   "source": [
    "Combining data with prncipal components "
   ]
  },
  {
   "cell_type": "code",
   "execution_count": 125,
   "metadata": {},
   "outputs": [],
   "source": [
    "data_comb = pd.concat([df_data_comb,finalDf], axis = 1)\n",
    "fdf_data_comb=pd.DataFrame(data_comb)"
   ]
  },
  {
   "cell_type": "code",
   "execution_count": 126,
   "metadata": {},
   "outputs": [],
   "source": [
    "data_test_comb = pd.concat([df_data_test_comb,finalDf1], axis = 1)\n",
    "fdf_data_test_comb=pd.DataFrame(data_test_comb)"
   ]
  },
  {
   "cell_type": "code",
   "execution_count": 127,
   "metadata": {},
   "outputs": [
    {
     "name": "stdout",
     "output_type": "stream",
     "text": [
      "(28836, 68)\n",
      "(8912, 67)\n"
     ]
    }
   ],
   "source": [
    "print(fdf_data_comb.shape)\n",
    "print(fdf_data_test_comb.shape)"
   ]
  },
  {
   "cell_type": "markdown",
   "metadata": {},
   "source": [
    "# Visualisation                                     \n",
    "                                        \n",
    "                                    "
   ]
  },
  {
   "cell_type": "markdown",
   "metadata": {},
   "source": [
    "##### To verify what is the major incident occuring resulting to claims"
   ]
  },
  {
   "cell_type": "code",
   "execution_count": 128,
   "metadata": {},
   "outputs": [
    {
     "data": {
      "text/html": [
       "<div>\n",
       "<style scoped>\n",
       "    .dataframe tbody tr th:only-of-type {\n",
       "        vertical-align: middle;\n",
       "    }\n",
       "\n",
       "    .dataframe tbody tr th {\n",
       "        vertical-align: top;\n",
       "    }\n",
       "\n",
       "    .dataframe thead th {\n",
       "        text-align: right;\n",
       "    }\n",
       "</style>\n",
       "<table border=\"1\" class=\"dataframe\">\n",
       "  <thead>\n",
       "    <tr style=\"text-align: right;\">\n",
       "      <th>IncidentCity</th>\n",
       "      <th>City1</th>\n",
       "      <th>City2</th>\n",
       "      <th>City3</th>\n",
       "      <th>City4</th>\n",
       "      <th>City5</th>\n",
       "      <th>City6</th>\n",
       "      <th>City7</th>\n",
       "    </tr>\n",
       "    <tr>\n",
       "      <th>Incident_month</th>\n",
       "      <th></th>\n",
       "      <th></th>\n",
       "      <th></th>\n",
       "      <th></th>\n",
       "      <th></th>\n",
       "      <th></th>\n",
       "      <th></th>\n",
       "    </tr>\n",
       "  </thead>\n",
       "  <tbody>\n",
       "    <tr>\n",
       "      <th>1</th>\n",
       "      <td>Vehicle Theft</td>\n",
       "      <td>Vehicle Theft</td>\n",
       "      <td>Vehicle Theft</td>\n",
       "      <td>Vehicle Theft</td>\n",
       "      <td>Vehicle Theft</td>\n",
       "      <td>Vehicle Theft</td>\n",
       "      <td>Vehicle Theft</td>\n",
       "    </tr>\n",
       "    <tr>\n",
       "      <th>2</th>\n",
       "      <td>Vehicle Theft</td>\n",
       "      <td>Vehicle Theft</td>\n",
       "      <td>Vehicle Theft</td>\n",
       "      <td>Vehicle Theft</td>\n",
       "      <td>Vehicle Theft</td>\n",
       "      <td>Vehicle Theft</td>\n",
       "      <td>Vehicle Theft</td>\n",
       "    </tr>\n",
       "    <tr>\n",
       "      <th>3</th>\n",
       "      <td>Multi-vehicle Collision</td>\n",
       "      <td>Single Vehicle Collision</td>\n",
       "      <td>Single Vehicle Collision</td>\n",
       "      <td>Single Vehicle Collision</td>\n",
       "      <td>Single Vehicle Collision</td>\n",
       "      <td>Single Vehicle Collision</td>\n",
       "      <td>Single Vehicle Collision</td>\n",
       "    </tr>\n",
       "  </tbody>\n",
       "</table>\n",
       "</div>"
      ],
      "text/plain": [
       "IncidentCity                      City1                     City2  \\\n",
       "Incident_month                                                      \n",
       "1                         Vehicle Theft             Vehicle Theft   \n",
       "2                         Vehicle Theft             Vehicle Theft   \n",
       "3               Multi-vehicle Collision  Single Vehicle Collision   \n",
       "\n",
       "IncidentCity                       City3                     City4  \\\n",
       "Incident_month                                                       \n",
       "1                          Vehicle Theft             Vehicle Theft   \n",
       "2                          Vehicle Theft             Vehicle Theft   \n",
       "3               Single Vehicle Collision  Single Vehicle Collision   \n",
       "\n",
       "IncidentCity                       City5                     City6  \\\n",
       "Incident_month                                                       \n",
       "1                          Vehicle Theft             Vehicle Theft   \n",
       "2                          Vehicle Theft             Vehicle Theft   \n",
       "3               Single Vehicle Collision  Single Vehicle Collision   \n",
       "\n",
       "IncidentCity                       City7  \n",
       "Incident_month                            \n",
       "1                          Vehicle Theft  \n",
       "2                          Vehicle Theft  \n",
       "3               Single Vehicle Collision  "
      ]
     },
     "execution_count": 128,
     "metadata": {},
     "output_type": "execute_result"
    }
   ],
   "source": [
    "data.pivot_table(index='Incident_month', columns='IncidentCity', values='TypeOfIncident', aggfunc=np.max, fill_value = 0)"
   ]
  },
  {
   "cell_type": "markdown",
   "metadata": {},
   "source": [
    "#### INFER: WE see that majority of the times , it was Vehicle theft"
   ]
  },
  {
   "cell_type": "markdown",
   "metadata": {},
   "source": [
    "#### Verifying who were contacted majority of the times."
   ]
  },
  {
   "cell_type": "code",
   "execution_count": 129,
   "metadata": {},
   "outputs": [
    {
     "data": {
      "text/html": [
       "<div>\n",
       "<style scoped>\n",
       "    .dataframe tbody tr th:only-of-type {\n",
       "        vertical-align: middle;\n",
       "    }\n",
       "\n",
       "    .dataframe tbody tr th {\n",
       "        vertical-align: top;\n",
       "    }\n",
       "\n",
       "    .dataframe thead th {\n",
       "        text-align: right;\n",
       "    }\n",
       "</style>\n",
       "<table border=\"1\" class=\"dataframe\">\n",
       "  <thead>\n",
       "    <tr style=\"text-align: right;\">\n",
       "      <th>IncidentCity</th>\n",
       "      <th>City1</th>\n",
       "      <th>City2</th>\n",
       "      <th>City3</th>\n",
       "      <th>City4</th>\n",
       "      <th>City5</th>\n",
       "      <th>City6</th>\n",
       "      <th>City7</th>\n",
       "    </tr>\n",
       "    <tr>\n",
       "      <th>Incident_month</th>\n",
       "      <th></th>\n",
       "      <th></th>\n",
       "      <th></th>\n",
       "      <th></th>\n",
       "      <th></th>\n",
       "      <th></th>\n",
       "      <th></th>\n",
       "    </tr>\n",
       "  </thead>\n",
       "  <tbody>\n",
       "    <tr>\n",
       "      <th>1</th>\n",
       "      <td>Police</td>\n",
       "      <td>Police</td>\n",
       "      <td>Police</td>\n",
       "      <td>Police</td>\n",
       "      <td>Police</td>\n",
       "      <td>Police</td>\n",
       "      <td>Police</td>\n",
       "    </tr>\n",
       "    <tr>\n",
       "      <th>2</th>\n",
       "      <td>Police</td>\n",
       "      <td>Police</td>\n",
       "      <td>Police</td>\n",
       "      <td>Police</td>\n",
       "      <td>Police</td>\n",
       "      <td>Police</td>\n",
       "      <td>Police</td>\n",
       "    </tr>\n",
       "    <tr>\n",
       "      <th>3</th>\n",
       "      <td>Police</td>\n",
       "      <td>Police</td>\n",
       "      <td>Police</td>\n",
       "      <td>Police</td>\n",
       "      <td>Police</td>\n",
       "      <td>Police</td>\n",
       "      <td>Police</td>\n",
       "    </tr>\n",
       "  </tbody>\n",
       "</table>\n",
       "</div>"
      ],
      "text/plain": [
       "IncidentCity     City1   City2   City3   City4   City5   City6   City7\n",
       "Incident_month                                                        \n",
       "1               Police  Police  Police  Police  Police  Police  Police\n",
       "2               Police  Police  Police  Police  Police  Police  Police\n",
       "3               Police  Police  Police  Police  Police  Police  Police"
      ]
     },
     "execution_count": 129,
     "metadata": {},
     "output_type": "execute_result"
    }
   ],
   "source": [
    "data.pivot_table(index='Incident_month', columns='IncidentCity', values='AuthoritiesContacted' ,aggfunc=np.max, fill_value = 0)"
   ]
  },
  {
   "cell_type": "markdown",
   "metadata": {},
   "source": [
    "To check which was the day in which major incidents occured and police report in accordance with month"
   ]
  },
  {
   "cell_type": "code",
   "execution_count": 130,
   "metadata": {},
   "outputs": [
    {
     "data": {
      "text/plain": [
       "<AxesSubplot:xlabel='PoliceReport'>"
      ]
     },
     "execution_count": 130,
     "metadata": {},
     "output_type": "execute_result"
    },
    {
     "data": {
      "image/png": "[encoded data removed]",
      "text/plain": [
       "<Figure size 432x288 with 1 Axes>"
      ]
     },
     "metadata": {
      "needs_background": "light"
     },
     "output_type": "display_data"
    }
   ],
   "source": [
    "data.pivot_table(index='PoliceReport', columns='Incident_month', values='Incident_day' ,aggfunc=np.max, fill_value = 0).plot()"
   ]
  },
  {
   "cell_type": "markdown",
   "metadata": {},
   "source": [
    "To verify the time in which major incidents occured "
   ]
  },
  {
   "cell_type": "code",
   "execution_count": 131,
   "metadata": {},
   "outputs": [
    {
     "data": {
      "text/plain": [
       "<AxesSubplot:xlabel='Incident_month'>"
      ]
     },
     "execution_count": 131,
     "metadata": {},
     "output_type": "execute_result"
    },
    {
     "data": {
      "image/png": "[encoded data removed]",
      "text/plain": [
       "<Figure size 432x288 with 1 Axes>"
      ]
     },
     "metadata": {
      "needs_background": "light"
     },
     "output_type": "display_data"
    }
   ],
   "source": [
    "data.pivot_table(index='Incident_month', columns='IncidentCity', values='IncidentTime', aggfunc=np.max, fill_value = 0).plot()"
   ]
  },
  {
   "cell_type": "markdown",
   "metadata": {},
   "source": [
    "Time slots where major incidents occured "
   ]
  },
  {
   "cell_type": "code",
   "execution_count": 134,
   "metadata": {},
   "outputs": [
    {
     "data": {
      "image/png": "[encoded data removed]",
      "text/plain": [
       "<Figure size 432x216 with 1 Axes>"
      ]
     },
     "metadata": {
      "needs_background": "light"
     },
     "output_type": "display_data"
    }
   ],
   "source": [
    "plt.figure()\n",
    "df_data_comb ['ReportedFraud'].value_counts().plot(kind='bar',\n",
    "                                  figsize=(6,3),\n",
    "                                  color=\"blue\",\n",
    "                                  alpha = 0.7,\n",
    "                                  fontsize=13)\n",
    "plt.title('Fraud rate (in numbers)')\n",
    "plt.grid()\n",
    "plt.show()"
   ]
  },
  {
   "cell_type": "markdown",
   "metadata": {},
   "source": [
    "Verfiying how many incidents were police reported as this would help us understand the fraud rate"
   ]
  },
  {
   "cell_type": "code",
   "execution_count": 135,
   "metadata": {},
   "outputs": [
    {
     "data": {
      "image/png": "[encoded data removed]",
      "text/plain": [
       "<Figure size 432x216 with 1 Axes>"
      ]
     },
     "metadata": {
      "needs_background": "light"
     },
     "output_type": "display_data"
    }
   ],
   "source": [
    "plt.figure()\n",
    "data_Cat['PoliceReport'].value_counts().plot(kind='bar',\n",
    "                                  figsize=(6,3),\n",
    "                                  color=\"blue\",\n",
    "                                  alpha = 0.7,\n",
    "                                  fontsize=13)\n",
    "plt.title('Police Reported (in numbers)')\n",
    "plt.grid()\n",
    "plt.show()"
   ]
  },
  {
   "cell_type": "markdown",
   "metadata": {},
   "source": [
    "Verifying how many incidents resulted in Body Injuries as this is vital while claiming"
   ]
  },
  {
   "cell_type": "code",
   "execution_count": 136,
   "metadata": {},
   "outputs": [
    {
     "data": {
      "image/png": "[encoded data removed]",
      "text/plain": [
       "<Figure size 432x216 with 1 Axes>"
      ]
     },
     "metadata": {
      "needs_background": "light"
     },
     "output_type": "display_data"
    }
   ],
   "source": [
    "plt.figure()\n",
    "data['BodilyInjuries'].value_counts().plot(kind='bar',\n",
    "                                  figsize=(6,3),\n",
    "                                  color=\"blue\",\n",
    "                                  alpha = 0.7,\n",
    "                                  fontsize=13)\n",
    "plt.title('Bodily Injuries (in numbers)')\n",
    "plt.grid()\n",
    "plt.show()"
   ]
  },
  {
   "cell_type": "markdown",
   "metadata": {},
   "source": [
    "To understand the pattern of incidents/no of incidents occuring per month"
   ]
  },
  {
   "cell_type": "code",
   "execution_count": 137,
   "metadata": {},
   "outputs": [
    {
     "data": {
      "image/png": "[encoded data removed]",
      "text/plain": [
       "<Figure size 432x216 with 1 Axes>"
      ]
     },
     "metadata": {
      "needs_background": "light"
     },
     "output_type": "display_data"
    }
   ],
   "source": [
    "plt.figure()\n",
    "data['Incident_month'].value_counts().plot(kind='bar',\n",
    "                                  figsize=(6,3),\n",
    "                                  color=\"blue\",\n",
    "                                  alpha = 0.7,\n",
    "                                  fontsize=13)\n",
    "plt.title('Day of Month (in numbers)')\n",
    "plt.grid()\n",
    "plt.show()"
   ]
  },
  {
   "cell_type": "markdown",
   "metadata": {},
   "source": [
    "To see which day of the month results in more incidents "
   ]
  },
  {
   "cell_type": "code",
   "execution_count": 138,
   "metadata": {},
   "outputs": [
    {
     "data": {
      "image/png": "[encoded data removed]",
      "text/plain": [
       "<Figure size 432x216 with 1 Axes>"
      ]
     },
     "metadata": {
      "needs_background": "light"
     },
     "output_type": "display_data"
    }
   ],
   "source": [
    "plt.figure()\n",
    "data_Cat['Incident_day'].value_counts().plot(kind='bar',\n",
    "                                  figsize=(6,3),\n",
    "                                  color=\"blue\",\n",
    "                                  alpha = 0.7,\n",
    "                                  fontsize=13)\n",
    "plt.title('Day of Month (in numbers)')\n",
    "plt.grid()\n",
    "plt.show()"
   ]
  },
  {
   "cell_type": "code",
   "execution_count": 139,
   "metadata": {},
   "outputs": [
    {
     "data": {
      "text/plain": [
       "Index(['ReportedFraud', 'TypeOfIncident', 'SeverityOfIncident',\n",
       "       'AuthoritiesContacted', 'IncidentCity', 'IncidentTime',\n",
       "       'NumberOfVehicles', 'PropertyDamage', 'BodilyInjuries', 'Witnesses',\n",
       "       'PoliceReport', 'InsuredAge', 'InsuredEducationLevel',\n",
       "       'InsuredOccupation', 'CustomerLoyaltyPeriod', 'InsurancePolicyState',\n",
       "       'Policy_Deductible', 'PolicyAnnualPremium', 'VehicleMake',\n",
       "       'VehicleModel', 'VehicleYOM', 'Incident_month', 'Incident_day',\n",
       "       'Policy_month', 'nor_Total_gain_loss', 'nor_Total_amount'],\n",
       "      dtype='object')"
      ]
     },
     "execution_count": 139,
     "metadata": {},
     "output_type": "execute_result"
    }
   ],
   "source": [
    "data.columns"
   ]
  },
  {
   "cell_type": "markdown",
   "metadata": {},
   "source": [
    "### Time of the day of the max incident occurence "
   ]
  },
  {
   "cell_type": "code",
   "execution_count": 140,
   "metadata": {},
   "outputs": [
    {
     "data": {
      "text/plain": [
       "Text(0, 0.5, 'Frequency')"
      ]
     },
     "execution_count": 140,
     "metadata": {},
     "output_type": "execute_result"
    },
    {
     "data": {
      "image/png": "[encoded data removed]",
      "text/plain": [
       "<Figure size 432x288 with 1 Axes>"
      ]
     },
     "metadata": {
      "needs_background": "light"
     },
     "output_type": "display_data"
    }
   ],
   "source": [
    "\n",
    "fig, ax = plt.subplots()\n",
    "# plot histogram\n",
    "ax.hist(Merged_Train4['IncidentTime'])\n",
    "# set title and labels\n",
    "ax.set_title('IncidentTime')\n",
    "ax.set_xlabel('Points')\n",
    "ax.set_ylabel('Frequency')"
   ]
  },
  {
   "cell_type": "markdown",
   "metadata": {},
   "source": [
    "#### SPLITTING OF DATA INTO TRAIN AND TEST"
   ]
  },
  {
   "cell_type": "code",
   "execution_count": 141,
   "metadata": {},
   "outputs": [
    {
     "data": {
      "text/plain": [
       "(28836, 68)"
      ]
     },
     "execution_count": 141,
     "metadata": {},
     "output_type": "execute_result"
    }
   ],
   "source": [
    "fdf_data_comb.shape"
   ]
  },
  {
   "cell_type": "code",
   "execution_count": 142,
   "metadata": {},
   "outputs": [
    {
     "data": {
      "text/plain": [
       "(8912, 67)"
      ]
     },
     "execution_count": 142,
     "metadata": {},
     "output_type": "execute_result"
    }
   ],
   "source": [
    "fdf_data_test_comb.shape"
   ]
  },
  {
   "cell_type": "code",
   "execution_count": 143,
   "metadata": {},
   "outputs": [],
   "source": [
    "X = fdf_data_comb.drop(\"ReportedFraud\",axis=1)\n",
    "y = fdf_data_comb[\"ReportedFraud\"]"
   ]
  },
  {
   "cell_type": "code",
   "execution_count": 144,
   "metadata": {},
   "outputs": [
    {
     "name": "stdout",
     "output_type": "stream",
     "text": [
      "TRAIN: [ 1402  1405  1406 ... 28833 28834 28835] TEST: [   0    1    2 ... 1570 1571 1576]\n",
      "TRAIN: [    0     1     2 ... 28833 28834 28835] TEST: [1402 1405 1406 ... 3001 3002 3007]\n",
      "TRAIN: [    0     1     2 ... 28833 28834 28835] TEST: [2833 2834 2836 ... 4590 4596 4600]\n",
      "TRAIN: [    0     1     2 ... 28833 28834 28835] TEST: [4235 4236 4237 ... 5989 5990 5994]\n",
      "TRAIN: [    0     1     2 ... 28833 28834 28835] TEST: [5668 5669 5671 ... 7280 7282 7290]\n",
      "TRAIN: [    0     1     2 ... 28833 28834 28835] TEST: [7179 7180 7181 ... 8753 8755 8760]\n",
      "TRAIN: [    0     1     2 ... 28833 28834 28835] TEST: [ 8613  8614  8615 ... 10220 10224 10230]\n",
      "TRAIN: [    0     1     2 ... 28833 28834 28835] TEST: [10046 10047 10048 ... 11602 11604 11606]\n",
      "TRAIN: [    0     1     2 ... 28833 28834 28835] TEST: [11516 11517 11518 ... 13170 13171 13176]\n",
      "TRAIN: [    0     1     2 ... 28833 28834 28835] TEST: [12893 12895 12897 ... 14559 14563 14566]\n",
      "TRAIN: [    0     1     2 ... 28833 28834 28835] TEST: [14367 14368 14369 ... 16064 16067 16069]\n",
      "TRAIN: [    0     1     2 ... 28833 28834 28835] TEST: [15782 15783 15784 ... 17489 17490 17495]\n",
      "TRAIN: [    0     1     2 ... 28833 28834 28835] TEST: [17221 17222 17223 ... 19099 19102 19103]\n",
      "TRAIN: [    0     1     2 ... 28833 28834 28835] TEST: [18640 18641 18642 ... 20474 20475 20482]\n",
      "TRAIN: [    0     1     2 ... 28833 28834 28835] TEST: [20061 20062 20063 ... 21910 21914 21915]\n",
      "TRAIN: [    0     1     2 ... 28833 28834 28835] TEST: [21516 21517 21518 ... 23413 23421 23434]\n",
      "TRAIN: [    0     1     2 ... 28833 28834 28835] TEST: [22949 22950 22951 ... 24971 24974 24976]\n",
      "TRAIN: [    0     1     2 ... 28833 28834 28835] TEST: [24345 24346 24347 ... 26470 26473 26478]\n",
      "TRAIN: [    0     1     2 ... 28833 28834 28835] TEST: [25765 25766 25767 ... 27896 27897 27899]\n",
      "TRAIN: [    0     1     2 ... 27896 27897 27899] TEST: [27189 27190 27192 ... 28833 28834 28835]\n"
     ]
    }
   ],
   "source": [
    "from sklearn.model_selection import StratifiedKFold\n",
    "skf = StratifiedKFold(n_splits=20, random_state=None)\n",
    "# X is the feature set and y is the target\n",
    "for train_index, test_index in skf.split(X,y): \n",
    "    print(\"TRAIN:\", train_index, \"TEST:\", test_index)\n",
    "    X_train, X_test = X.iloc[train_index], X.iloc[test_index]\n",
    "    y_train, y_test = y.iloc[train_index], y.iloc[test_index]\n",
    " "
   ]
  },
  {
   "cell_type": "code",
   "execution_count": 145,
   "metadata": {},
   "outputs": [],
   "source": [
    "#X_train, X_test, y_train, y_test = train_test_split(X, y, test_size=0.20)"
   ]
  },
  {
   "cell_type": "code",
   "execution_count": 146,
   "metadata": {
    "scrolled": true
   },
   "outputs": [
    {
     "name": "stdout",
     "output_type": "stream",
     "text": [
      "(27395, 67)\n",
      "(1441, 67)\n",
      "(27395,)\n",
      "(1441,)\n"
     ]
    }
   ],
   "source": [
    "print(X_train.shape)\n",
    "print(X_test.shape)\n",
    "print(y_train.shape)\n",
    "print(y_test.shape)"
   ]
  },
  {
   "cell_type": "code",
   "execution_count": 147,
   "metadata": {},
   "outputs": [],
   "source": [
    "X_train.drop(['AuthoritiesContacted'],axis=1,inplace=True)\n",
    "X_test.drop(['AuthoritiesContacted'],axis=1,inplace=True)\n",
    "fdf_data_test_comb.drop(['AuthoritiesContacted'],axis=1,inplace=True)"
   ]
  },
  {
   "cell_type": "markdown",
   "metadata": {},
   "source": [
    "## Model Building"
   ]
  },
  {
   "cell_type": "markdown",
   "metadata": {},
   "source": [
    "#### Random Forest"
   ]
  },
  {
   "cell_type": "code",
   "execution_count": 148,
   "metadata": {},
   "outputs": [],
   "source": [
    "from sklearn.ensemble import RandomForestClassifier\n",
    "rfc=RandomForestClassifier(n_estimators=50,criterion='entropy',max_features=0.65,n_jobs = -1,random_state =12)"
   ]
  },
  {
   "cell_type": "code",
   "execution_count": 149,
   "metadata": {},
   "outputs": [
    {
     "data": {
      "text/plain": [
       "Index(['Incident_day', 'NumberOfVehicles', 'BodilyInjuries', 'Incident_month',\n",
       "       'Policy_month', 'InsuredAge', 'nor_Total_gain_loss',\n",
       "       'CustomerLoyaltyPeriod', 'IncidentTime', 'nor_Total_amount',\n",
       "       'Policy_Deductible', 'PolicyAnnualPremium', 'VehicleYOM',\n",
       "       'InsuredEducationLevel_College', 'InsuredEducationLevel_High School',\n",
       "       'InsuredEducationLevel_JD', 'InsuredEducationLevel_MD',\n",
       "       'InsuredEducationLevel_Masters', 'InsuredEducationLevel_PhD',\n",
       "       'InsuredOccupation_armed-forces', 'InsuredOccupation_craft-repair',\n",
       "       'InsuredOccupation_exec-managerial',\n",
       "       'InsuredOccupation_farming-fishing',\n",
       "       'InsuredOccupation_handlers-cleaners',\n",
       "       'InsuredOccupation_machine-op-inspct',\n",
       "       'InsuredOccupation_other-service', 'InsuredOccupation_priv-house-serv',\n",
       "       'InsuredOccupation_prof-specialty', 'InsuredOccupation_protective-serv',\n",
       "       'InsuredOccupation_sales', 'InsuredOccupation_tech-support',\n",
       "       'InsuredOccupation_transport-moving', 'InsurancePolicyState_State2',\n",
       "       'InsurancePolicyState_State3', 'TypeOfIncident_Parked Car',\n",
       "       'TypeOfIncident_Single Vehicle Collision',\n",
       "       'TypeOfIncident_Vehicle Theft', 'SeverityOfIncident_Minor Damage',\n",
       "       'SeverityOfIncident_Total Loss', 'SeverityOfIncident_Trivial Damage',\n",
       "       'IncidentCity_City2', 'IncidentCity_City3', 'IncidentCity_City4',\n",
       "       'IncidentCity_City5', 'IncidentCity_City6', 'IncidentCity_City7',\n",
       "       'PropertyDamage_YES', 'Witnesses_1.0', 'Witnesses_2.0', 'Witnesses_3.0',\n",
       "       'PoliceReport_YES', 'VehicleMake_Audi', 'VehicleMake_BMW',\n",
       "       'VehicleMake_Chevrolet', 'VehicleMake_Dodge', 'VehicleMake_Ford',\n",
       "       'VehicleMake_Honda', 'VehicleMake_Jeep', 'VehicleMake_Mercedes',\n",
       "       'VehicleMake_Nissan', 'VehicleMake_Saab', 'VehicleMake_Suburu',\n",
       "       'VehicleMake_Toyota', 'VehicleMake_Volkswagen', 'principal component 1',\n",
       "       'principal component 2'],\n",
       "      dtype='object')"
      ]
     },
     "execution_count": 149,
     "metadata": {},
     "output_type": "execute_result"
    }
   ],
   "source": [
    "X_train.columns"
   ]
  },
  {
   "cell_type": "code",
   "execution_count": 150,
   "metadata": {},
   "outputs": [
    {
     "data": {
      "text/html": [
       "<style>#sk-container-id-1 {color: black;background-color: white;}#sk-container-id-1 pre{padding: 0;}#sk-container-id-1 div.sk-toggleable {background-color: white;}#sk-container-id-1 label.sk-toggleable__label {cursor: pointer;display: block;width: 100%;margin-bottom: 0;padding: 0.3em;box-sizing: border-box;text-align: center;}#sk-container-id-1 label.sk-toggleable__label-arrow:before {content: \"▸\";float: left;margin-right: 0.25em;color: #696969;}#sk-container-id-1 label.sk-toggleable__label-arrow:hover:before {color: black;}#sk-container-id-1 div.sk-estimator:hover label.sk-toggleable__label-arrow:before {color: black;}#sk-container-id-1 div.sk-toggleable__content {max-height: 0;max-width: 0;overflow: hidden;text-align: left;background-color: #f0f8ff;}#sk-container-id-1 div.sk-toggleable__content pre {margin: 0.2em;color: black;border-radius: 0.25em;background-color: #f0f8ff;}#sk-container-id-1 input.sk-toggleable__control:checked~div.sk-toggleable__content {max-height: 200px;max-width: 100%;overflow: auto;}#sk-container-id-1 input.sk-toggleable__control:checked~label.sk-toggleable__label-arrow:before {content: \"▾\";}#sk-container-id-1 div.sk-estimator input.sk-toggleable__control:checked~label.sk-toggleable__label {background-color: #d4ebff;}#sk-container-id-1 div.sk-label input.sk-toggleable__control:checked~label.sk-toggleable__label {background-color: #d4ebff;}#sk-container-id-1 input.sk-hidden--visually {border: 0;clip: rect(1px 1px 1px 1px);clip: rect(1px, 1px, 1px, 1px);height: 1px;margin: -1px;overflow: hidden;padding: 0;position: absolute;width: 1px;}#sk-container-id-1 div.sk-estimator {font-family: monospace;background-color: #f0f8ff;border: 1px dotted black;border-radius: 0.25em;box-sizing: border-box;margin-bottom: 0.5em;}#sk-container-id-1 div.sk-estimator:hover {background-color: #d4ebff;}#sk-container-id-1 div.sk-parallel-item::after {content: \"\";width: 100%;border-bottom: 1px solid gray;flex-grow: 1;}#sk-container-id-1 div.sk-label:hover label.sk-toggleable__label {background-color: #d4ebff;}#sk-container-id-1 div.sk-serial::before {content: \"\";position: absolute;border-left: 1px solid gray;box-sizing: border-box;top: 0;bottom: 0;left: 50%;z-index: 0;}#sk-container-id-1 div.sk-serial {display: flex;flex-direction: column;align-items: center;background-color: white;padding-right: 0.2em;padding-left: 0.2em;position: relative;}#sk-container-id-1 div.sk-item {position: relative;z-index: 1;}#sk-container-id-1 div.sk-parallel {display: flex;align-items: stretch;justify-content: center;background-color: white;position: relative;}#sk-container-id-1 div.sk-item::before, #sk-container-id-1 div.sk-parallel-item::before {content: \"\";position: absolute;border-left: 1px solid gray;box-sizing: border-box;top: 0;bottom: 0;left: 50%;z-index: -1;}#sk-container-id-1 div.sk-parallel-item {display: flex;flex-direction: column;z-index: 1;position: relative;background-color: white;}#sk-container-id-1 div.sk-parallel-item:first-child::after {align-self: flex-end;width: 50%;}#sk-container-id-1 div.sk-parallel-item:last-child::after {align-self: flex-start;width: 50%;}#sk-container-id-1 div.sk-parallel-item:only-child::after {width: 0;}#sk-container-id-1 div.sk-dashed-wrapped {border: 1px dashed gray;margin: 0 0.4em 0.5em 0.4em;box-sizing: border-box;padding-bottom: 0.4em;background-color: white;}#sk-container-id-1 div.sk-label label {font-family: monospace;font-weight: bold;display: inline-block;line-height: 1.2em;}#sk-container-id-1 div.sk-label-container {text-align: center;}#sk-container-id-1 div.sk-container {/* jupyter's `normalize.less` sets `[hidden] { display: none; }` but bootstrap.min.css set `[hidden] { display: none !important; }` so we also need the `!important` here to be able to override the default hidden behavior on the sphinx rendered scikit-learn.org. See: https://github.com/scikit-learn/scikit-learn/issues/21755 */display: inline-block !important;position: relative;}#sk-container-id-1 div.sk-text-repr-fallback {display: none;}</style><div id=\"sk-container-id-1\" class=\"sk-top-container\"><div class=\"sk-text-repr-fallback\"><pre>RandomForestClassifier(criterion=&#x27;entropy&#x27;, max_features=0.65, n_estimators=50,\n",
       "                       n_jobs=-1, random_state=12)</pre><b>In a Jupyter environment, please rerun this cell to show the HTML representation or trust the notebook. <br />On GitHub, the HTML representation is unable to render, please try loading this page with nbviewer.org.</b></div><div class=\"sk-container\" hidden><div class=\"sk-item\"><div class=\"sk-estimator sk-toggleable\"><input class=\"sk-toggleable__control sk-hidden--visually\" id=\"sk-estimator-id-1\" type=\"checkbox\" checked><label for=\"sk-estimator-id-1\" class=\"sk-toggleable__label sk-toggleable__label-arrow\">RandomForestClassifier</label><div class=\"sk-toggleable__content\"><pre>RandomForestClassifier(criterion=&#x27;entropy&#x27;, max_features=0.65, n_estimators=50,\n",
       "                       n_jobs=-1, random_state=12)</pre></div></div></div></div></div>"
      ],
      "text/plain": [
       "RandomForestClassifier(criterion='entropy', max_features=0.65, n_estimators=50,\n",
       "                       n_jobs=-1, random_state=12)"
      ]
     },
     "execution_count": 150,
     "metadata": {},
     "output_type": "execute_result"
    }
   ],
   "source": [
    "rfc.fit(X = X_train,y = y_train)"
   ]
  },
  {
   "cell_type": "code",
   "execution_count": 151,
   "metadata": {},
   "outputs": [],
   "source": [
    "from sklearn.metrics import accuracy_score\n",
    "from sklearn.metrics import f1_score"
   ]
  },
  {
   "cell_type": "code",
   "execution_count": 152,
   "metadata": {},
   "outputs": [
    {
     "name": "stdout",
     "output_type": "stream",
     "text": [
      "TRAIN DATA ACCURACY 0.9995619638620186\n",
      "\n",
      "Train data f1-score for class 'N' 0.9997000599880024\n",
      "\n",
      "Train data f1-score for class 'Y' 0.9991882018671358\n",
      "\n",
      "\n",
      "--------------------------------------\n",
      "\n",
      "\n",
      "TEST DATA ACCURACY 0.916030534351145\n",
      "\n",
      "Test data f1-score for class 'N' 0.9437470943747095\n",
      "\n",
      "Test data f1-score for class 'Y' 0.8344733242134063\n"
     ]
    }
   ],
   "source": [
    "## Predict\n",
    "train_predictions = rfc.predict(X_train)\n",
    "test_predictions = rfc.predict(X_test)\n",
    "\n",
    "print(\"TRAIN DATA ACCURACY\",accuracy_score(y_train,train_predictions))\n",
    "print(\"\\nTrain data f1-score for class 'N'\",f1_score(y_train,train_predictions,pos_label=0))\n",
    "print(\"\\nTrain data f1-score for class 'Y'\",f1_score(y_train,train_predictions,pos_label=1))\n",
    "\n",
    "### Test data accuracy\n",
    "print(\"\\n\\n--------------------------------------\\n\\n\")\n",
    "print(\"TEST DATA ACCURACY\",accuracy_score(y_test,test_predictions))\n",
    "print(\"\\nTest data f1-score for class 'N'\",f1_score(y_test,test_predictions,pos_label=0))\n",
    "print(\"\\nTest data f1-score for class 'Y'\",f1_score(y_test,test_predictions,pos_label=1))"
   ]
  },
  {
   "cell_type": "code",
   "execution_count": 153,
   "metadata": {},
   "outputs": [],
   "source": [
    "test_pred=rfc.predict(fdf_data_test_comb)"
   ]
  },
  {
   "cell_type": "code",
   "execution_count": 154,
   "metadata": {},
   "outputs": [],
   "source": [
    "pred1 = pd.DataFrame(test_pred, columns=['ReportedFraud']).to_csv('test_predictions_phd_New123.csv')"
   ]
  },
  {
   "cell_type": "markdown",
   "metadata": {},
   "source": [
    "Randomised search"
   ]
  },
  {
   "cell_type": "code",
   "execution_count": 155,
   "metadata": {},
   "outputs": [],
   "source": [
    "from sklearn.model_selection import RandomizedSearchCV #hyperparameter tuning\n",
    "from sklearn.metrics import make_scorer\n",
    "\n",
    "## n_jobs = -1 uses all cores of processor\n",
    "## max_features is the maximum number of attributes to select for each tree\n",
    "rfc_grid = RandomForestClassifier(n_jobs=-1, max_features=0.6, class_weight='balanced_subsample')\n",
    " \n",
    "# Use a grid over parameters of interest\n",
    "## n_estimators is the number of trees in the forest\n",
    "## max_depth is how deep each tree can be\n",
    "## min_sample_leaf is the minimum samples required in each leaf node for the root node to split\n",
    "## \"A node will only be split if in each of it's leaf nodes there should be min_sample_leaf\"\n",
    "\n",
    "param_grid = {\"n_estimators\" : [10, 25, 50, 75, 100],\n",
    "           \"max_depth\" : [10, 12, 14, 16, 18, 20],\n",
    "           \"min_samples_leaf\" : [5, 10, 15, 20],\n",
    "           \"class_weight\" : ['balanced','balanced_subsample']}\n",
    " \n",
    "rfc_cv_grid = RandomizedSearchCV(estimator = rfc_grid, \n",
    "                                 param_distributions = param_grid, \n",
    "                                 cv = 3, n_iter=16)"
   ]
  },
  {
   "cell_type": "code",
   "execution_count": 156,
   "metadata": {},
   "outputs": [
    {
     "data": {
      "text/html": [
       "<style>#sk-container-id-2 {color: black;background-color: white;}#sk-container-id-2 pre{padding: 0;}#sk-container-id-2 div.sk-toggleable {background-color: white;}#sk-container-id-2 label.sk-toggleable__label {cursor: pointer;display: block;width: 100%;margin-bottom: 0;padding: 0.3em;box-sizing: border-box;text-align: center;}#sk-container-id-2 label.sk-toggleable__label-arrow:before {content: \"▸\";float: left;margin-right: 0.25em;color: #696969;}#sk-container-id-2 label.sk-toggleable__label-arrow:hover:before {color: black;}#sk-container-id-2 div.sk-estimator:hover label.sk-toggleable__label-arrow:before {color: black;}#sk-container-id-2 div.sk-toggleable__content {max-height: 0;max-width: 0;overflow: hidden;text-align: left;background-color: #f0f8ff;}#sk-container-id-2 div.sk-toggleable__content pre {margin: 0.2em;color: black;border-radius: 0.25em;background-color: #f0f8ff;}#sk-container-id-2 input.sk-toggleable__control:checked~div.sk-toggleable__content {max-height: 200px;max-width: 100%;overflow: auto;}#sk-container-id-2 input.sk-toggleable__control:checked~label.sk-toggleable__label-arrow:before {content: \"▾\";}#sk-container-id-2 div.sk-estimator input.sk-toggleable__control:checked~label.sk-toggleable__label {background-color: #d4ebff;}#sk-container-id-2 div.sk-label input.sk-toggleable__control:checked~label.sk-toggleable__label {background-color: #d4ebff;}#sk-container-id-2 input.sk-hidden--visually {border: 0;clip: rect(1px 1px 1px 1px);clip: rect(1px, 1px, 1px, 1px);height: 1px;margin: -1px;overflow: hidden;padding: 0;position: absolute;width: 1px;}#sk-container-id-2 div.sk-estimator {font-family: monospace;background-color: #f0f8ff;border: 1px dotted black;border-radius: 0.25em;box-sizing: border-box;margin-bottom: 0.5em;}#sk-container-id-2 div.sk-estimator:hover {background-color: #d4ebff;}#sk-container-id-2 div.sk-parallel-item::after {content: \"\";width: 100%;border-bottom: 1px solid gray;flex-grow: 1;}#sk-container-id-2 div.sk-label:hover label.sk-toggleable__label {background-color: #d4ebff;}#sk-container-id-2 div.sk-serial::before {content: \"\";position: absolute;border-left: 1px solid gray;box-sizing: border-box;top: 0;bottom: 0;left: 50%;z-index: 0;}#sk-container-id-2 div.sk-serial {display: flex;flex-direction: column;align-items: center;background-color: white;padding-right: 0.2em;padding-left: 0.2em;position: relative;}#sk-container-id-2 div.sk-item {position: relative;z-index: 1;}#sk-container-id-2 div.sk-parallel {display: flex;align-items: stretch;justify-content: center;background-color: white;position: relative;}#sk-container-id-2 div.sk-item::before, #sk-container-id-2 div.sk-parallel-item::before {content: \"\";position: absolute;border-left: 1px solid gray;box-sizing: border-box;top: 0;bottom: 0;left: 50%;z-index: -1;}#sk-container-id-2 div.sk-parallel-item {display: flex;flex-direction: column;z-index: 1;position: relative;background-color: white;}#sk-container-id-2 div.sk-parallel-item:first-child::after {align-self: flex-end;width: 50%;}#sk-container-id-2 div.sk-parallel-item:last-child::after {align-self: flex-start;width: 50%;}#sk-container-id-2 div.sk-parallel-item:only-child::after {width: 0;}#sk-container-id-2 div.sk-dashed-wrapped {border: 1px dashed gray;margin: 0 0.4em 0.5em 0.4em;box-sizing: border-box;padding-bottom: 0.4em;background-color: white;}#sk-container-id-2 div.sk-label label {font-family: monospace;font-weight: bold;display: inline-block;line-height: 1.2em;}#sk-container-id-2 div.sk-label-container {text-align: center;}#sk-container-id-2 div.sk-container {/* jupyter's `normalize.less` sets `[hidden] { display: none; }` but bootstrap.min.css set `[hidden] { display: none !important; }` so we also need the `!important` here to be able to override the default hidden behavior on the sphinx rendered scikit-learn.org. See: https://github.com/scikit-learn/scikit-learn/issues/21755 */display: inline-block !important;position: relative;}#sk-container-id-2 div.sk-text-repr-fallback {display: none;}</style><div id=\"sk-container-id-2\" class=\"sk-top-container\"><div class=\"sk-text-repr-fallback\"><pre>RandomizedSearchCV(cv=3,\n",
       "                   estimator=RandomForestClassifier(class_weight=&#x27;balanced_subsample&#x27;,\n",
       "                                                    max_features=0.6,\n",
       "                                                    n_jobs=-1),\n",
       "                   n_iter=16,\n",
       "                   param_distributions={&#x27;class_weight&#x27;: [&#x27;balanced&#x27;,\n",
       "                                                         &#x27;balanced_subsample&#x27;],\n",
       "                                        &#x27;max_depth&#x27;: [10, 12, 14, 16, 18, 20],\n",
       "                                        &#x27;min_samples_leaf&#x27;: [5, 10, 15, 20],\n",
       "                                        &#x27;n_estimators&#x27;: [10, 25, 50, 75, 100]})</pre><b>In a Jupyter environment, please rerun this cell to show the HTML representation or trust the notebook. <br />On GitHub, the HTML representation is unable to render, please try loading this page with nbviewer.org.</b></div><div class=\"sk-container\" hidden><div class=\"sk-item sk-dashed-wrapped\"><div class=\"sk-label-container\"><div class=\"sk-label sk-toggleable\"><input class=\"sk-toggleable__control sk-hidden--visually\" id=\"sk-estimator-id-2\" type=\"checkbox\" ><label for=\"sk-estimator-id-2\" class=\"sk-toggleable__label sk-toggleable__label-arrow\">RandomizedSearchCV</label><div class=\"sk-toggleable__content\"><pre>RandomizedSearchCV(cv=3,\n",
       "                   estimator=RandomForestClassifier(class_weight=&#x27;balanced_subsample&#x27;,\n",
       "                                                    max_features=0.6,\n",
       "                                                    n_jobs=-1),\n",
       "                   n_iter=16,\n",
       "                   param_distributions={&#x27;class_weight&#x27;: [&#x27;balanced&#x27;,\n",
       "                                                         &#x27;balanced_subsample&#x27;],\n",
       "                                        &#x27;max_depth&#x27;: [10, 12, 14, 16, 18, 20],\n",
       "                                        &#x27;min_samples_leaf&#x27;: [5, 10, 15, 20],\n",
       "                                        &#x27;n_estimators&#x27;: [10, 25, 50, 75, 100]})</pre></div></div></div><div class=\"sk-parallel\"><div class=\"sk-parallel-item\"><div class=\"sk-item\"><div class=\"sk-label-container\"><div class=\"sk-label sk-toggleable\"><input class=\"sk-toggleable__control sk-hidden--visually\" id=\"sk-estimator-id-3\" type=\"checkbox\" ><label for=\"sk-estimator-id-3\" class=\"sk-toggleable__label sk-toggleable__label-arrow\">estimator: RandomForestClassifier</label><div class=\"sk-toggleable__content\"><pre>RandomForestClassifier(class_weight=&#x27;balanced_subsample&#x27;, max_features=0.6,\n",
       "                       n_jobs=-1)</pre></div></div></div><div class=\"sk-serial\"><div class=\"sk-item\"><div class=\"sk-estimator sk-toggleable\"><input class=\"sk-toggleable__control sk-hidden--visually\" id=\"sk-estimator-id-4\" type=\"checkbox\" ><label for=\"sk-estimator-id-4\" class=\"sk-toggleable__label sk-toggleable__label-arrow\">RandomForestClassifier</label><div class=\"sk-toggleable__content\"><pre>RandomForestClassifier(class_weight=&#x27;balanced_subsample&#x27;, max_features=0.6,\n",
       "                       n_jobs=-1)</pre></div></div></div></div></div></div></div></div></div></div>"
      ],
      "text/plain": [
       "RandomizedSearchCV(cv=3,\n",
       "                   estimator=RandomForestClassifier(class_weight='balanced_subsample',\n",
       "                                                    max_features=0.6,\n",
       "                                                    n_jobs=-1),\n",
       "                   n_iter=16,\n",
       "                   param_distributions={'class_weight': ['balanced',\n",
       "                                                         'balanced_subsample'],\n",
       "                                        'max_depth': [10, 12, 14, 16, 18, 20],\n",
       "                                        'min_samples_leaf': [5, 10, 15, 20],\n",
       "                                        'n_estimators': [10, 25, 50, 75, 100]})"
      ]
     },
     "execution_count": 156,
     "metadata": {},
     "output_type": "execute_result"
    }
   ],
   "source": [
    "rfc_cv_grid.fit(X_train, y_train)"
   ]
  },
  {
   "cell_type": "code",
   "execution_count": 157,
   "metadata": {},
   "outputs": [
    {
     "data": {
      "text/plain": [
       "{'n_estimators': 10,\n",
       " 'min_samples_leaf': 5,\n",
       " 'max_depth': 18,\n",
       " 'class_weight': 'balanced'}"
      ]
     },
     "execution_count": 157,
     "metadata": {},
     "output_type": "execute_result"
    }
   ],
   "source": [
    "rfc_cv_grid.best_params_\n",
    "#rfc_cv_grid.best_estimator_"
   ]
  },
  {
   "cell_type": "code",
   "execution_count": 158,
   "metadata": {},
   "outputs": [
    {
     "name": "stdout",
     "output_type": "stream",
     "text": [
      "TRAIN DATA ACCURACY 0.9364847599926994\n",
      "\n",
      "Train data f1-score for class 'N' 0.9564171926660655\n",
      "\n",
      "Train data f1-score for class 'Y' 0.882954392573658\n",
      "\n",
      "\n",
      "--------------------------------------\n",
      "\n",
      "\n",
      "TEST DATA ACCURACY 0.8910478834142956\n",
      "\n",
      "Test data f1-score for class 'N' 0.92541567695962\n",
      "\n",
      "Test data f1-score for class 'Y' 0.797940797940798\n"
     ]
    }
   ],
   "source": [
    "## Predict\n",
    "train_predictions = rfc_cv_grid.predict(X_train)\n",
    "test_predictions = rfc_cv_grid.predict(X_test)\n",
    "\n",
    "print(\"TRAIN DATA ACCURACY\",accuracy_score(y_train,train_predictions))\n",
    "print(\"\\nTrain data f1-score for class 'N'\",f1_score(y_train,train_predictions,pos_label=0))\n",
    "print(\"\\nTrain data f1-score for class 'Y'\",f1_score(y_train,train_predictions,pos_label=1))\n",
    "\n",
    "### Test data accuracy\n",
    "print(\"\\n\\n--------------------------------------\\n\\n\")\n",
    "print(\"TEST DATA ACCURACY\",accuracy_score(y_test,test_predictions))\n",
    "print(\"\\nTest data f1-score for class 'N'\",f1_score(y_test,test_predictions,pos_label=0))\n",
    "print(\"\\nTest data f1-score for class 'Y'\",f1_score(y_test,test_predictions,pos_label=1))"
   ]
  }
 ],
 "metadata": {
  "kernelspec": {
   "display_name": "Python 3 (ipykernel)",
   "language": "python",
   "name": "python3"
  },
  "language_info": {
   "codemirror_mode": {
    "name": "ipython",
    "version": 3
   },
   "file_extension": ".py",
   "mimetype": "text/x-python",
   "name": "python",
   "nbconvert_exporter": "python",
   "pygments_lexer": "ipython3",
   "version": "3.9.7"
  }
 },
 "nbformat": 4,
 "nbformat_minor": 2
}
